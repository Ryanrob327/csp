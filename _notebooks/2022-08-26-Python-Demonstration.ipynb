{
 "cells": [
  {
   "cell_type": "markdown",
   "metadata": {},
   "source": [
    "# Python Demonstration\n",
    "> This Jupyter Notebook demonstrates my understanding of python with a guessing game\n",
    "\n",
    "- toc: false\n",
    "- branch: master\n",
    "- badges: true\n",
    "- comments: false\n",
    "- author: Ryan McWeeny\n",
    "- categories: [fastpages, jupyter, python]"
   ]
  },
  {
   "cell_type": "markdown",
   "metadata": {},
   "source": [
    "## Guessing Game\n",
    "\n",
    "This is a guessing game that I made with python that picks a random number between 1 and 100. When you give your first guess the program tells you whether it is too low or too high and lets you guess again until you have guessed the number."
   ]
  },
  {
   "cell_type": "code",
   "execution_count": 6,
   "metadata": {},
   "outputs": [
    {
     "name": "stdout",
     "output_type": "stream",
     "text": [
      "50  is too low\n",
      "75  is too low\n",
      "88  is too high\n",
      "82  is too low\n",
      "85  is too low\n",
      "86  is correct! it took you  5  attempts to guess the number.\n"
     ]
    }
   ],
   "source": [
    "import random \n",
    "\n",
    "value = random.randint(1, 100)\n",
    "tries = 0\n",
    "    \n",
    "guess = int(input(\"Guess a number between 1 and 100\"))\n",
    "while value != guess:\n",
    "    if guess < value:\n",
    "        print(guess, \" is too low\")\n",
    "        guess = int(input(\"Guess a number between 1 and 100\"))\n",
    "        tries += 1\n",
    "    elif guess > value:\n",
    "        print(guess, \" is too high\")\n",
    "        guess = int(input(\"Guess a number between 1 and 100\"))\n",
    "        tries += 1\n",
    "\n",
    "print(guess, \" is correct! it took you \", tries, \" attempts to guess the number.\")"
   ]
  }
 ],
 "metadata": {
  "kernelspec": {
   "display_name": "Python 3.8.10 64-bit",
   "language": "python",
   "name": "python3"
  },
  "language_info": {
   "codemirror_mode": {
    "name": "ipython",
    "version": 3
   },
   "file_extension": ".py",
   "mimetype": "text/x-python",
   "name": "python",
   "nbconvert_exporter": "python",
   "pygments_lexer": "ipython3",
   "version": "3.8.10"
  },
  "orig_nbformat": 4,
  "vscode": {
   "interpreter": {
    "hash": "916dbcbb3f70747c44a77c7bcd40155683ae19c65e1c03b4aa3499c5328201f1"
   }
  }
 },
 "nbformat": 4,
 "nbformat_minor": 2
}
