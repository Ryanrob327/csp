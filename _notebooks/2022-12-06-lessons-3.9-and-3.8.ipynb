{
 "cells": [
  {
   "cell_type": "markdown",
   "metadata": {},
   "source": [
    "# Lessons 3.9 and 3.11 hacks\n",
    "\n",
    "- toc: true\n",
    "- badges: true\n",
    "- comments: true\n",
    "- author: Ryan McWeeny\n",
    "- categories: [week15]"
   ]
  },
  {
   "cell_type": "markdown",
   "metadata": {},
   "source": [
    "# 1. if-else statement"
   ]
  },
  {
   "cell_type": "code",
   "execution_count": null,
   "metadata": {},
   "outputs": [],
   "source": [
    "stayInside = True\n",
    "isCold = True\n",
    "isRaining = True\n",
    "\n",
    "if isCold or isRaining:\n",
    "    stayInside = True\n",
    "else:\n",
    "    stayInside = False"
   ]
  },
  {
   "cell_type": "markdown",
   "metadata": {},
   "source": [
    "# 2. turn-based algorithm"
   ]
  },
  {
   "cell_type": "code",
   "execution_count": 29,
   "metadata": {},
   "outputs": [
    {
     "name": "stdout",
     "output_type": "stream",
     "text": [
      "9\n",
      "[3, 4, 7, 9]\n"
     ]
    }
   ],
   "source": [
    "import random\n",
    "\n",
    "attempts = 4\n",
    "score = []\n",
    "length = len(score)\n",
    "\n",
    "while attempts > 0:\n",
    "    score.append(random.randint(1,10))\n",
    "    attempts -= 1\n",
    "\n",
    "score.sort()\n",
    "\n",
    "print(score[len(score) - 1])\n",
    "print(score)"
   ]
  },
  {
   "attachments": {},
   "cell_type": "markdown",
   "metadata": {},
   "source": [
    "# 3. Reach the grey square"
   ]
  },
  {
   "cell_type": "code",
   "execution_count": null,
   "metadata": {},
   "outputs": [],
   "source": [
    "{\n",
    "if CANMOVEFORWARD{\n",
    "    moveForwards\n",
    "}\n",
    "else{\n",
    "    if CANTURNRIGHT{\n",
    "        turnright\n",
    "    }\n",
    "    if CANTURNLEFT{\n",
    "        turnleft\n",
    "    }\n",
    "}\n",
    "}"
   ]
  },
  {
   "attachments": {},
   "cell_type": "markdown",
   "metadata": {},
   "source": [
    "# 4. Binary search tree\n",
    "\n",
    "*see issue comment*\n",
    "\n",
    "# 5. how to get 69\n",
    "\n",
    "Check the number splitting the array, if this number is less than the desired number take the number splitting the larger numbers, repeat until desired number is found.\n",
    "\n",
    "# 6. How I found the list\n",
    "\n",
    "*see issue comment*\n",
    "\n",
    "# 7. put list in order\n",
    "\n",
    "[\"Market”, ”Ralphs”, “store”, \"Target”, ”Walmart”]\n",
    "\n",
    "You could add this in this order in order to put them in alphabetical order, ascending. This way these could be properly compared, as numbers are greater, you can compare which numerical value of these ascii characters is greater.\n",
    "\n",
    "# 8. why Binary > Sequential \n",
    "\n",
    "Binary search is far quicker than sequential search because binary search inherently rules out half of the possibilities every iteration. Since you start at the middle index, you can either choose to pick the group that is greater than the middle index, or the group that is lower. As a result, you will rule out half of the known possibilities every single time you make a cut.\n",
    "\n",
    "# 9. \n",
    "\n",
    "Out of the list [64,36,16,11,9], I would be searching for 36. First I would select the middle element ((1+5)/2 = 3, and for the purpose of collegeboard that is the middle element), and 16 is less than 36, so I would move back, (as the list is reversed). Hence, I would select the 2nd element ((1+3)/2 = 2) and that is equal to 36, so it would take me two tries in order to get to 36.\n",
    "\n",
    "*see issue comment for diagram*"
   ]
  }
 ],
 "metadata": {
  "kernelspec": {
   "display_name": "Python 3.9.12 ('base')",
   "language": "python",
   "name": "python3"
  },
  "language_info": {
   "codemirror_mode": {
    "name": "ipython",
    "version": 3
   },
   "file_extension": ".py",
   "mimetype": "text/x-python",
   "name": "python",
   "nbconvert_exporter": "python",
   "pygments_lexer": "ipython3",
   "version": "3.9.12 (main, Apr  5 2022, 06:56:58) \n[GCC 7.5.0]"
  },
  "orig_nbformat": 4,
  "vscode": {
   "interpreter": {
    "hash": "dea183ffc6c848431f9119977663213e228dddf001778cfd6d11b5eeef44c3af"
   }
  }
 },
 "nbformat": 4,
 "nbformat_minor": 2
}
