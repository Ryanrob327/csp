{
 "cells": [
  {
   "cell_type": "markdown",
   "metadata": {},
   "source": [
    "# Polygon API\n",
    "> shows how I used the polygon API to collect stock data\n",
    "\n",
    "- toc: true\n",
    "- branch: master\n",
    "- badges: true\n",
    "- comments: true\n",
    "- author: Ryan McWeeny\n",
    "- categories: [week7]"
   ]
  },
  {
   "cell_type": "code",
   "execution_count": 9,
   "metadata": {},
   "outputs": [
    {
     "name": "stdout",
     "output_type": "stream",
     "text": [
      "[Agg(open=25.96, high=26.89, low=25.27, close=25.36, volume=3284353.0, vwap=25.9089, timestamp=1665547200000, transactions=38303, otc=None)]\n"
     ]
    }
   ],
   "source": [
    "from polygon import RESTClient\n",
    "from typing import cast\n",
    "from urllib3 import HTTPResponse\n",
    "\n",
    "# API key for the stocks\n",
    "\n",
    "client = RESTClient(\"RQQmTlSXibKSclKn0R4lj2Vtmzvw1Fjv\") # api key in quotes\n",
    "\n",
    "aggs = client.get_aggs(\"GME\", 1, \"day\", \"2022-10-12\", \"2022-10-12\")\n",
    "print(aggs)"
   ]
  },
  {
   "cell_type": "code",
   "execution_count": 10,
   "metadata": {},
   "outputs": [
    {
     "name": "stdout",
     "output_type": "stream",
     "text": [
      "GME\n",
      "25.96\n"
     ]
    }
   ],
   "source": [
    "stock = input(\"request stock above\")\n",
    "data = client.get_daily_open_close_agg(stock, \"2022-10-12\")\n",
    "\n",
    "\n",
    "print(data.symbol)\n",
    "print(data.open)"
   ]
  }
 ],
 "metadata": {
  "kernelspec": {
   "display_name": "Python 3.9.12 ('base')",
   "language": "python",
   "name": "python3"
  },
  "language_info": {
   "codemirror_mode": {
    "name": "ipython",
    "version": 3
   },
   "file_extension": ".py",
   "mimetype": "text/x-python",
   "name": "python",
   "nbconvert_exporter": "python",
   "pygments_lexer": "ipython3",
   "version": "3.9.12"
  },
  "orig_nbformat": 4,
  "vscode": {
   "interpreter": {
    "hash": "dea183ffc6c848431f9119977663213e228dddf001778cfd6d11b5eeef44c3af"
   }
  }
 },
 "nbformat": 4,
 "nbformat_minor": 2
}
