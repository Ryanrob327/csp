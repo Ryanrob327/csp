{
 "cells": [
  {
   "attachments": {},
   "cell_type": "markdown",
   "metadata": {},
   "source": [
    "# Lessons 3.14-3.15 hacks\n",
    "\n",
    "- toc: true\n",
    "- badges: true\n",
    "- comments: true\n",
    "- author: Ryan McWeeny\n",
    "- categories: [week16]"
   ]
  },
  {
   "attachments": {},
   "cell_type": "markdown",
   "metadata": {},
   "source": [
    "# Reflection\n",
    "## Vocab\n",
    "- Documentation:  Text that explains the what, how, or why of your code.\n",
    "- Libraries:  A collection of prewritten code or procedures that coders can use to maximize their efficiency.\n",
    "- Application Programming Interface:  A type of software through several computers are able to communicate information amongst each other.\n",
    "\n",
    "## Notes\n",
    "- Libraries contain procedures that make programming easier.\n",
    "- procedures are especially good for reusing segments of code by calling the procedure.\n",
    "- random procedure: Random(a,b) provides a random number in the range [a, b]\n",
    "\n",
    "# Hacks\n",
    "## Multiple Choice\n",
    "  1. B) a random integer between 'a' and 'b' inclusive\n",
    "  2. A) x = start, y = stop, z = step\n",
    "  3. A) random.item() does not exist\n",
    "\n",
    "## Short Answer\n",
    "  1. Libraries are convenient because they provide procedures and prewritten code to maximize the efficiency of programmers\n",
    "  2. This procedure takes a list of strings and returns who will buy the meal today\n",
    "\n",
    "## Coding Challenge\n"
   ]
  },
  {
   "cell_type": "code",
   "execution_count": 15,
   "metadata": {},
   "outputs": [
    {
     "name": "stdout",
     "output_type": "stream",
     "text": [
      "5\n",
      "3\n",
      "8\n",
      "5\n",
      "5\n",
      "7\n",
      "10\n",
      "3\n",
      "11\n",
      "6\n",
      "3\n",
      "8\n",
      "6\n",
      "8\n",
      "{'Aiden': 0, 'Brayden': 0, 'Bradley': 0, 'Harambe': 0, 'Charles': 0, 'BigChungus': 0, 'Chad': 0, 'Brett': 0, 'Dorian': 0, 'Ryan': 0, 'Varalu': 0, 'Rohin': 0, 'Advay': 0, 'SmallChungus': 0, 0: 5, 1: 3, 2: 8, 3: 5, 4: 5, 5: 7, 6: 10, 7: 3, 8: 11, 9: 6, 10: 3, 11: 8, 12: 6, 13: 8}\n"
     ]
    }
   ],
   "source": [
    "import random\n",
    "NAMES = {\"Aiden\": 0, \"Brayden\": 0, \"Bradley\": 0, \"Harambe\": 0, \"Charles\": 0, \"BigChungus\": 0, \"Chad\": 0, \"Brett\": 0, \"Dorian\": 0, \"Ryan\": 0, \"Varalu\": 0, \"Rohin\": 0, \"Advay\": 0, \"SmallChungus\": 0}\n",
    "\n",
    "def greatestRoll(names):\n",
    "    for i in range(len(names)):\n",
    "        names[i] = random.randint(1,6) + random.randint(1,6)\n",
    "        print(names[i])\n",
    "    print(names)\n",
    "\n",
    "greatestRoll(NAMES)"
   ]
  },
  {
   "cell_type": "code",
   "execution_count": null,
   "metadata": {},
   "outputs": [],
   "source": []
  }
 ],
 "metadata": {
  "kernelspec": {
   "display_name": "base",
   "language": "python",
   "name": "python3"
  },
  "language_info": {
   "codemirror_mode": {
    "name": "ipython",
    "version": 3
   },
   "file_extension": ".py",
   "mimetype": "text/x-python",
   "name": "python",
   "nbconvert_exporter": "python",
   "pygments_lexer": "ipython3",
   "version": "3.9.12 (main, Apr  5 2022, 06:56:58) \n[GCC 7.5.0]"
  },
  "orig_nbformat": 4,
  "vscode": {
   "interpreter": {
    "hash": "dea183ffc6c848431f9119977663213e228dddf001778cfd6d11b5eeef44c3af"
   }
  }
 },
 "nbformat": 4,
 "nbformat_minor": 2
}
