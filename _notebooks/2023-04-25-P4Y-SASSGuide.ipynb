{
 "cells": [
  {
   "attachments": {},
   "cell_type": "markdown",
   "metadata": {},
   "source": [
    "# P4-Y 4/25 Guide to SASS \n",
    "> An guide on how to use SASS to build a more customized frontend.\n",
    "- toc: true\n",
    "- comments: true\n",
    "- badges: false\n",
    "- author: Aniket Chakradeo, Ryan Hakimipour, Max Tullius, Jaden Nguyen, Nathan Kim, Kalani Cabral-Omana, Evan Appari, Max Wu, \n",
    "- categories: [student]\n",
    "- type: ap\n",
    "- week: 31"
   ]
  },
  {
   "attachments": {},
   "cell_type": "markdown",
   "metadata": {},
   "source": [
    "# Classwork: \n",
    "\n",
    "### What are 5 Basic UI Elements?:\n",
    "\n",
    "1. Color\n",
    "2. Font\n",
    "3. Layout\n",
    "1. Layout\n",
    "2. Icons\n",
    "\n",
    "### In your own words, explain what SASS does:\n",
    "\n",
    "- Helps reduce complexity of code to assist in styling page.\n",
    "- creates compiler\n",
    "\n",
    "### What are some benefits to SASS?: \n",
    "\n",
    "- SASS has variables to use\n",
    "- classes used as nameSpaces to be referenced over again\n",
    "- can use SASS compiler to view web page\n",
    "\n",
    "### Describe/Explain one of the more \"advanced\" SASS properties below in detail:\n",
    "\n",
    "- animation: set an image to rotate, fade in/out by changing opacity. You can also set properties like duration, delay, iteration count when referencing the animation\n",
    "\n",
    "## [Link to Number Guesser Game](https://anicricket.github.io/tmv4/_pages/numberguesser_v3.html)\n",
    "\n",
    "\n",
    "### How does the number guesser game work?\n",
    "\n",
    "- Javascript gets a random number, and each guess compares your guess to the number, until you get the number correct.\n",
    "\n",
    "### Explain how SASS can be used to make the number guesser game look more visually appealing?\n",
    "\n",
    "- SASS can be used to add animations or make the game grid based, maybe you have a grid and have to guess which square on the grid is the chosen square and when you choose the right square it plays an animation."
   ]
  },
  {
   "attachments": {},
   "cell_type": "markdown",
   "metadata": {},
   "source": [
    "# Hacks - Insert any screenshots, code segments, etc. that you need to in order to demonstrate an understanding of the hacks\n",
    "\n",
    "## Hacks Part 1\n",
    "1. Add your own element to your own repository to make it unique (0.9)\n",
    "   - I added my own favicon to make my fastpages unique (look below hacks for screenshot)\n",
    "\n",
    "## Hacks Part 2\n",
    "1. Add the style change button to your own github page (0.9) [Theme Changer](https://ryanrob327.github.io/csp/_pages/theme-changer.html)\n",
    "    - Change the button to your own styles \n",
    "    - See if you can let make it change to multiple different styles (we understand that it is hard to create multiple distinct styles so you are only required to make it clear you have at least three different styles at can be changed)\n",
    "2. Extra: Try and incorporate something you learned in the lesson into your CPT Project (0.1)\n",
    "\n",
    "## Hacks Part 3\n",
    "1. Add SASS to Number Guesser Game provided (0.9) or create your own Javascript game/application and add SASS to it (0.9+) [Number Guesser](https://ryanrob327.github.io/csp/_pages/numbergueser.html)\n",
    "2. We will collectively decide on the \"best\" game/app and award potential seed. \n",
    "\n",
    "# Copy and paste the following code segment into a markdown file which will be used for the hacks:"
   ]
  },
  {
   "cell_type": "code",
   "execution_count": 2,
   "metadata": {},
   "outputs": [
    {
     "data": {
      "image/png": "[encoded data removed]",
      "text/plain": [
       "<IPython.core.display.Image object>"
      ]
     },
     "execution_count": 2,
     "metadata": {},
     "output_type": "execute_result"
    }
   ],
   "source": [
    "from IPython.display import Image\n",
    "Image(filename='images/favicon image.png') "
   ]
  },
  {
   "cell_type": "code",
   "execution_count": null,
   "metadata": {},
   "outputs": [],
   "source": [
    "<html>\n",
    "<head>\n",
    "  <title>Guess the Number</title>\n",
    "</head>\n",
    "<body>\n",
    "  <h1>Guess the Number</h1>\n",
    "  <p>Try to guess the number between 1 and 100.</p>\n",
    "  <input type=\"text\" id=\"guess\" placeholder=\"Enter your guess\">\n",
    "  <button onclick=\"checkGuess()\">Submit</button>\n",
    "  <p id=\"result\"></p>\n",
    "\n",
    "  <script>\n",
    "    // Generate a random number between 1 and 100\n",
    "    const randomNumber = Math.floor(Math.random() * 100) + 1;\n",
    "    let attempts = 0;\n",
    "\n",
    "    function checkGuess() {\n",
    "      // Get the user's guess\n",
    "      const guess = parseInt(document.getElementById(\"guess\").value);\n",
    "\n",
    "      // Increase the number of attempts\n",
    "      attempts++;\n",
    "\n",
    "      // Check if the guess is correct\n",
    "      if (guess === randomNumber) {\n",
    "        document.getElementById(\"result\").innerHTML = `Congratulations! You guessed the number in ${attempts} attempts.`;\n",
    "      } else if (guess < randomNumber) {\n",
    "        document.getElementById(\"result\").innerHTML = \"Too low. Guess again.\";\n",
    "      } else {\n",
    "        document.getElementById(\"result\").innerHTML = \"Too high. Guess again.\";\n",
    "      }\n",
    "    }\n",
    "  </script>\n",
    "</body>\n",
    "</html>\n"
   ]
  }
 ],
 "metadata": {
  "kernelspec": {
   "display_name": "base",
   "language": "python",
   "name": "python3"
  },
  "language_info": {
   "codemirror_mode": {
    "name": "ipython",
    "version": 3
   },
   "file_extension": ".py",
   "mimetype": "text/x-python",
   "name": "python",
   "nbconvert_exporter": "python",
   "pygments_lexer": "ipython3",
   "version": "3.9.12"
  },
  "orig_nbformat": 4
 },
 "nbformat": 4,
 "nbformat_minor": 2
}
