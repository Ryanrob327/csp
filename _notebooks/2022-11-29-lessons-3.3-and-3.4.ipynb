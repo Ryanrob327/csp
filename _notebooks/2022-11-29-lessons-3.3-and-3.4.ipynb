{
 "cells": [
  {
   "cell_type": "markdown",
   "metadata": {},
   "source": [
    "# Lessons 3.3 and 3.4 hacks\n",
    "\n",
    "- toc: true\n",
    "- badges: true\n",
    "- comments: true\n",
    "- author: Ryan McWeeny\n",
    "- categories: [week14]"
   ]
  },
  {
   "cell_type": "markdown",
   "metadata": {},
   "source": [
    "# Lesson 3.3 video 1 hacks\n",
    "- together the steps make a sequence\n",
    "- the while loops create iteration by incrementing a variable such as 'x' or 'y' "
   ]
  },
  {
   "cell_type": "code",
   "execution_count": 9,
   "metadata": {},
   "outputs": [
    {
     "name": "stdout",
     "output_type": "stream",
     "text": [
      "\\\n",
      "\\\\\n",
      "\\\\\\\n",
      "\\\\\\\\\n",
      "\\\\\\\\\\\n"
     ]
    }
   ],
   "source": [
    "x = 1\n",
    "char = \"\\\\\"\n",
    "while x <= 5:\n",
    "  y = 1\n",
    "  while y <= x:\n",
    "    print (char, end= \"\")\n",
    "    y += 1\n",
    "  print ()\n",
    "  x += 1"
   ]
  },
  {
   "cell_type": "markdown",
   "metadata": {},
   "source": [
    "# Lesson 3.3 video 2 hacks\n",
    "\n",
    "| Question    | Answer      |\n",
    "| ----------- | ----------- |\n",
    "| 1.          | a = 1, b = 7, c = 3, d = 7           |\n",
    "| 2.          | both values are true          |\n",
    "| 3.          | num1 = 6, num2 = 11      |\n",
    "\n",
    "# Lesson 3.4 video \n",
    "\n",
    "| Question    | Answer      |\n",
    "| ----------- | ----------- |\n",
    "| 1.          | SmithB@gmail.com           |\n",
    "| 2.          | ompuook          |"
   ]
  }
 ],
 "metadata": {
  "kernelspec": {
   "display_name": "Python 3.9.12 ('base')",
   "language": "python",
   "name": "python3"
  },
  "language_info": {
   "codemirror_mode": {
    "name": "ipython",
    "version": 3
   },
   "file_extension": ".py",
   "mimetype": "text/x-python",
   "name": "python",
   "nbconvert_exporter": "python",
   "pygments_lexer": "ipython3",
   "version": "3.9.12"
  },
  "orig_nbformat": 4,
  "vscode": {
   "interpreter": {
    "hash": "dea183ffc6c848431f9119977663213e228dddf001778cfd6d11b5eeef44c3af"
   }
  }
 },
 "nbformat": 4,
 "nbformat_minor": 2
}
