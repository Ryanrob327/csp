{
 "cells": [
  {
   "cell_type": "markdown",
   "metadata": {},
   "source": [
    "# Polygon API\n",
    "> shows how I used the polygon API to collect stock data\n",
    "\n",
    "- toc: true\n",
    "- branch: master\n",
    "- badges: true\n",
    "- comments: true\n",
    "- author: Ryan McWeeny\n",
    "- categories: [week7]"
   ]
  },
  {
   "cell_type": "code",
   "execution_count": 2,
   "metadata": {},
   "outputs": [],
   "source": [
    "from polygon import RESTClient\n",
    "from typing import cast\n",
    "from urllib3 import HTTPResponse\n",
    "import time\n",
    "\n",
    "# API key for the stocks\n",
    "\n",
    "client = RESTClient(\"RQQmTlSXibKSclKn0R4lj2Vtmzvw1Fjv\") # api key in quotes\n",
    "\n",
    "aggs = client.get_aggs(\"GME\", 1, \"month\", \"2022-01-01\", \"2022-10-01\")\n",
    "\n",
    "data = []\n",
    "\n",
    "#for i in range (1):\n",
    "    #data.append({\"2022-\"+str(i + 1)+\"-1\": aggs[i].open})\n",
    "    #print(\"2022-\" + str(i + 1) + \"-1: \" + str(aggs[i].open))\n",
    "    #time.sleep(12)\n",
    "#print(data)"
   ]
  },
  {
   "cell_type": "code",
   "execution_count": 10,
   "metadata": {},
   "outputs": [
    {
     "name": "stdout",
     "output_type": "stream",
     "text": [
      "GME\n",
      "25.96\n"
     ]
    }
   ],
   "source": [
    "stock = input(\"request stock above\")\n",
    "data = client.get_daily_open_close_agg(stock, \"2022-10-12\")\n",
    "\n",
    "\n",
    "print(data.symbol)\n",
    "print(data.open)"
   ]
  },
  {
   "cell_type": "code",
   "execution_count": 7,
   "metadata": {},
   "outputs": [
    {
     "name": "stdout",
     "output_type": "stream",
     "text": [
      "2022-1-01\n"
     ]
    }
   ],
   "source": [
    "i = 1\n",
    "print(\"2022-\" + str(i) + \"-01\")"
   ]
  },
  {
   "cell_type": "code",
   "execution_count": 1,
   "metadata": {},
   "outputs": [
    {
     "ename": "NameError",
     "evalue": "name 'client' is not defined",
     "output_type": "error",
     "traceback": [
      "\u001b[0;31m---------------------------------------------------------------------------\u001b[0m",
      "\u001b[0;31mNameError\u001b[0m                                 Traceback (most recent call last)",
      "\u001b[1;32m/home/ryanm/vscode/csp/_notebooks/2022-10-10-Polygon-API.ipynb Cell 5\u001b[0m in \u001b[0;36m<cell line: 1>\u001b[0;34m()\u001b[0m\n\u001b[1;32m      <a href='vscode-notebook-cell://wsl%2Bubuntu/home/ryanm/vscode/csp/_notebooks/2022-10-10-Polygon-API.ipynb#W4sdnNjb2RlLXJlbW90ZQ%3D%3D?line=0'>1</a>\u001b[0m \u001b[39mfor\u001b[39;00m i \u001b[39min\u001b[39;00m \u001b[39mrange\u001b[39m (\u001b[39m2\u001b[39m):\n\u001b[0;32m----> <a href='vscode-notebook-cell://wsl%2Bubuntu/home/ryanm/vscode/csp/_notebooks/2022-10-10-Polygon-API.ipynb#W4sdnNjb2RlLXJlbW90ZQ%3D%3D?line=1'>2</a>\u001b[0m     data \u001b[39m=\u001b[39m client\u001b[39m.\u001b[39mget_daily_open_close_agg(\u001b[39m\"\u001b[39m\u001b[39mGME\u001b[39m\u001b[39m\"\u001b[39m, \u001b[39m\"\u001b[39m\u001b[39m2022-\u001b[39m\u001b[39m\"\u001b[39m \u001b[39m+\u001b[39m \u001b[39m\"\u001b[39m\u001b[39m01\u001b[39m\u001b[39m\"\u001b[39m \u001b[39m+\u001b[39m \u001b[39m\"\u001b[39m\u001b[39m-01\u001b[39m\u001b[39m\"\u001b[39m)\n\u001b[1;32m      <a href='vscode-notebook-cell://wsl%2Bubuntu/home/ryanm/vscode/csp/_notebooks/2022-10-10-Polygon-API.ipynb#W4sdnNjb2RlLXJlbW90ZQ%3D%3D?line=2'>3</a>\u001b[0m     i \u001b[39m+\u001b[39m\u001b[39m=\u001b[39m \u001b[39m1\u001b[39m\n\u001b[1;32m      <a href='vscode-notebook-cell://wsl%2Bubuntu/home/ryanm/vscode/csp/_notebooks/2022-10-10-Polygon-API.ipynb#W4sdnNjb2RlLXJlbW90ZQ%3D%3D?line=3'>4</a>\u001b[0m     \u001b[39mprint\u001b[39m(data\u001b[39m.\u001b[39msymbol)\n",
      "\u001b[0;31mNameError\u001b[0m: name 'client' is not defined"
     ]
    }
   ],
   "source": [
    "for i in range (2):\n",
    "    data = client.get_daily_open_close_agg(\"GME\", \"2022-\" + \"01\" + \"-01\")\n",
    "    i += 1\n",
    "    print(data.symbol)\n",
    "    print(data.open)\n",
    "    print(data.close)"
   ]
  },
  {
   "cell_type": "code",
   "execution_count": 8,
   "metadata": {},
   "outputs": [
    {
     "name": "stdout",
     "output_type": "stream",
     "text": [
      "[{'date': '2021-1-1', 'open': 4.75, 'high': 120.75, 'low': 4.27, 'close': 81.25}, {'date': '2021-2-1', 'open': 79.14, 'high': 80.5, 'low': 9.625, 'close': 25.435}, {'date': '2021-3-1', 'open': 26.135, 'high': 87.125, 'low': 24.9925, 'close': 47.455}, {'date': '2021-4-1', 'open': 48.34, 'high': 49.2423, 'low': 33, 'close': 43.3975}, {'date': '2021-5-1', 'open': 44.3725, 'high': 67.2, 'low': 34.125, 'close': 55.5}, {'date': '2021-6-1', 'open': 58.37, 'high': 86.165, 'low': 49.25, 'close': 53.535}, {'date': '2021-7-1', 'open': 53.35, 'high': 54.2075, 'low': 39.5025, 'close': 40.28}, {'date': '2021-8-1', 'open': 40.5, 'high': 56.75, 'low': 36.305, 'close': 54.56}, {'date': '2021-9-1', 'open': 56, 'high': 57.8598, 'low': 41.6975, 'close': 43.8675}, {'date': '2021-10-1', 'open': 44.85, 'high': 48.045, 'low': 41.4525, 'close': 45.8775}, {'date': '2021-11-1', 'open': 45.6325, 'high': 63.9225, 'low': 45.5125, 'close': 49.0525}, {'date': '2021-12-1', 'open': 49.85, 'high': 50.0263, 'low': 32.375, 'close': 37.0975}]\n"
     ]
    }
   ],
   "source": [
    "def yearly_data(stock):\n",
    "    \n",
    "    client = RESTClient(\"w4oXBFSyC3bTkpJeVwSnKt8iuwBgMeMy\") # api_key is used\n",
    "    aggs = client.get_aggs(stock, 1, \"month\", \"2021-01-01\", \"2021-12-01\")\n",
    "\n",
    "    data = []\n",
    "\n",
    "    for i in range (12):\n",
    "        data.append({\"date\": \"2021-\" +str(i + 1) + \"-1\",\"open\": aggs[i].open, \"high\": aggs[i].high,\n",
    "                     \"low\": aggs[i].low, \"close\": aggs[i].close})\n",
    "        #time.sleep(12)\n",
    "        \n",
    "    return(data)\n",
    "\n",
    "print(yearly_data(\"GME\"))"
   ]
  }
 ],
 "metadata": {
  "kernelspec": {
   "display_name": "Python 3.9.12 ('base')",
   "language": "python",
   "name": "python3"
  },
  "language_info": {
   "codemirror_mode": {
    "name": "ipython",
    "version": 3
   },
   "file_extension": ".py",
   "mimetype": "text/x-python",
   "name": "python",
   "nbconvert_exporter": "python",
   "pygments_lexer": "ipython3",
   "version": "3.9.12"
  },
  "orig_nbformat": 4,
  "vscode": {
   "interpreter": {
    "hash": "dea183ffc6c848431f9119977663213e228dddf001778cfd6d11b5eeef44c3af"
   }
  }
 },
 "nbformat": 4,
 "nbformat_minor": 2
}
