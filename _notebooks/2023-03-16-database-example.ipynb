{
 "cells": [
  {
   "attachments": {},
   "cell_type": "markdown",
   "metadata": {},
   "source": [
    "#  Example database using stocks\n",
    "- toc: true\n",
    "- comments: true\n",
    "- author: Ryan McWeeny\n",
    "- categories: [week26]"
   ]
  },
  {
   "attachments": {},
   "cell_type": "markdown",
   "metadata": {},
   "source": [
    "# Database example with plane stats\n",
    "\n",
    "This database stores planes and their stats, it implements CRUD using imperative programming\n",
    "\n",
    "## Create\n",
    "\n",
    "Importing the necessary modules and create function:"
   ]
  },
  {
   "cell_type": "code",
   "execution_count": 12,
   "metadata": {},
   "outputs": [
    {
     "name": "stdout",
     "output_type": "stream",
     "text": [
      "A new user record SR-71 has been created with the data:\n",
      "('SR-71', 34000000, 2200, 'Lockheed')\n"
     ]
    }
   ],
   "source": [
    "import sqlite3\n",
    "\n",
    "database = 'files/planes.db'\n",
    "\n",
    "\n",
    "def create_design(designation, price, max_speed, designer):\n",
    "    conn = sqlite3.connect(database)\n",
    "    c = conn.cursor()\n",
    "    \n",
    "    try:\n",
    "        # Execute an SQL command to insert data into a table\n",
    "        c.execute(\"INSERT INTO planes (designation, price, max_speed, designer) VALUES (?, ?, ?, ?)\",\n",
    "              (designation, price, max_speed, designer))\n",
    "                \n",
    "        # Commit the changes to the database\n",
    "        conn.commit()\n",
    "        print(f\"A new user record {designation} has been created with the data:\")\n",
    "        print((designation, price, max_speed, designer))\n",
    "                \n",
    "    except sqlite3.Error as error:\n",
    "        print(\"Error while executing the INSERT:\", error)\n",
    "\n",
    "    c.close()\n",
    "    conn.close()\n",
    "    \n",
    "    \n",
    "create_design(\"SR-71\", 34000000, 2200, \"Lockheed\")"
   ]
  },
  {
   "attachments": {},
   "cell_type": "markdown",
   "metadata": {},
   "source": [
    "This function takes four arguments (designation, price, max_speed, and designer) and inserts them into the \"designs\" table as a new record.\n",
    "\n",
    "## Read"
   ]
  },
  {
   "cell_type": "code",
   "execution_count": 19,
   "metadata": {},
   "outputs": [
    {
     "ename": "ValueError",
     "evalue": "parameters are of unsupported type",
     "output_type": "error",
     "traceback": [
      "\u001b[0;31m---------------------------------------------------------------------------\u001b[0m",
      "\u001b[0;31mValueError\u001b[0m                                Traceback (most recent call last)",
      "\u001b[1;32m/home/ryanm/vscode/csp/_notebooks/2023-03-16-database-example.ipynb Cell 5\u001b[0m in \u001b[0;36m<cell line: 13>\u001b[0;34m()\u001b[0m\n\u001b[1;32m      <a href='vscode-notebook-cell://wsl%2Bubuntu/home/ryanm/vscode/csp/_notebooks/2023-03-16-database-example.ipynb#W4sdnNjb2RlLXJlbW90ZQ%3D%3D?line=7'>8</a>\u001b[0m     conn\u001b[39m.\u001b[39mclose()\n\u001b[1;32m     <a href='vscode-notebook-cell://wsl%2Bubuntu/home/ryanm/vscode/csp/_notebooks/2023-03-16-database-example.ipynb#W4sdnNjb2RlLXJlbW90ZQ%3D%3D?line=9'>10</a>\u001b[0m     \u001b[39mreturn\u001b[39;00m design\n\u001b[0;32m---> <a href='vscode-notebook-cell://wsl%2Bubuntu/home/ryanm/vscode/csp/_notebooks/2023-03-16-database-example.ipynb#W4sdnNjb2RlLXJlbW90ZQ%3D%3D?line=12'>13</a>\u001b[0m design \u001b[39m=\u001b[39m read_design(\u001b[39m1\u001b[39;49m)\n\u001b[1;32m     <a href='vscode-notebook-cell://wsl%2Bubuntu/home/ryanm/vscode/csp/_notebooks/2023-03-16-database-example.ipynb#W4sdnNjb2RlLXJlbW90ZQ%3D%3D?line=13'>14</a>\u001b[0m \u001b[39mprint\u001b[39m(design)\n",
      "\u001b[1;32m/home/ryanm/vscode/csp/_notebooks/2023-03-16-database-example.ipynb Cell 5\u001b[0m in \u001b[0;36mread_design\u001b[0;34m(id)\u001b[0m\n\u001b[1;32m      <a href='vscode-notebook-cell://wsl%2Bubuntu/home/ryanm/vscode/csp/_notebooks/2023-03-16-database-example.ipynb#W4sdnNjb2RlLXJlbW90ZQ%3D%3D?line=1'>2</a>\u001b[0m conn \u001b[39m=\u001b[39m sqlite3\u001b[39m.\u001b[39mconnect(database)\n\u001b[1;32m      <a href='vscode-notebook-cell://wsl%2Bubuntu/home/ryanm/vscode/csp/_notebooks/2023-03-16-database-example.ipynb#W4sdnNjb2RlLXJlbW90ZQ%3D%3D?line=2'>3</a>\u001b[0m c \u001b[39m=\u001b[39m conn\u001b[39m.\u001b[39mcursor()\n\u001b[0;32m----> <a href='vscode-notebook-cell://wsl%2Bubuntu/home/ryanm/vscode/csp/_notebooks/2023-03-16-database-example.ipynb#W4sdnNjb2RlLXJlbW90ZQ%3D%3D?line=3'>4</a>\u001b[0m c\u001b[39m.\u001b[39;49mexecute(\u001b[39m\"\"\"\u001b[39;49m\u001b[39mSELECT * FROM planes\u001b[39;49m\u001b[39m\"\"\"\u001b[39;49m, (\u001b[39mid\u001b[39;49m))\n\u001b[1;32m      <a href='vscode-notebook-cell://wsl%2Bubuntu/home/ryanm/vscode/csp/_notebooks/2023-03-16-database-example.ipynb#W4sdnNjb2RlLXJlbW90ZQ%3D%3D?line=4'>5</a>\u001b[0m design \u001b[39m=\u001b[39m c\u001b[39m.\u001b[39mfetchone()\n\u001b[1;32m      <a href='vscode-notebook-cell://wsl%2Bubuntu/home/ryanm/vscode/csp/_notebooks/2023-03-16-database-example.ipynb#W4sdnNjb2RlLXJlbW90ZQ%3D%3D?line=6'>7</a>\u001b[0m c\u001b[39m.\u001b[39mclose()\n",
      "\u001b[0;31mValueError\u001b[0m: parameters are of unsupported type"
     ]
    }
   ],
   "source": [
    "def read_design(id):\n",
    "    conn = sqlite3.connect(database)\n",
    "    c = conn.cursor()\n",
    "    c.execute(\"SELECT * FROM planes WHERE id=?\", (id))\n",
    "    design = c.fetchone()\n",
    "    \n",
    "    c.close()\n",
    "    conn.close()\n",
    "    \n",
    "    return design\n",
    "\n",
    "\n",
    "design = read_design(1)\n",
    "print(design)"
   ]
  },
  {
   "attachments": {},
   "cell_type": "markdown",
   "metadata": {},
   "source": [
    "This function takes a design ID as an argument and returns the record from the \"designs\" table that matches that ID.\n",
    "\n",
    "## Update"
   ]
  },
  {
   "cell_type": "code",
   "execution_count": null,
   "metadata": {},
   "outputs": [],
   "source": [
    "def update_design(design_id, designation=None, price=None, max_speed=None, designer=None):\n",
    "    conn = sqlite3.connect(database)\n",
    "    c = conn.cursor()\n",
    "    update_dict = {}\n",
    "    \n",
    "    if designation is not None:\n",
    "        update_dict[\"designation\"] = designation\n",
    "    if price is not None:\n",
    "        update_dict[\"price\"] = price\n",
    "    if max_speed is not None:\n",
    "        update_dict[\"max_speed\"] = max_speed\n",
    "    if designer is not None:\n",
    "        update_dict[\"designer\"] = designer\n",
    "        \n",
    "    update_str = \", \".join([f\"{col}=? \" for col in update_dict.keys()])\n",
    "    c.execute(f\"UPDATE designs SET {update_str} WHERE id=?\", (*update_dict.values(), design_id))\n",
    "    conn.commit()\n",
    "    \n",
    "    c.close()\n",
    "    conn.close()"
   ]
  },
  {
   "attachments": {},
   "cell_type": "markdown",
   "metadata": {},
   "source": [
    "This function takes a design ID and any combination of the other four arguments as keyword arguments. It updates the record in the \"designs\" table that matches the ID with the new values provided.\n",
    "\n",
    "## Delete"
   ]
  },
  {
   "cell_type": "code",
   "execution_count": null,
   "metadata": {},
   "outputs": [],
   "source": [
    "def delete_design(design_id):\n",
    "    conn = sqlite3.connect('designs.db')\n",
    "    c = conn.cursor()\n",
    "    c.execute(\"DELETE FROM designs WHERE id=?\", (design_id,))\n",
    "    conn.commit()\n",
    "    conn.close()"
   ]
  },
  {
   "attachments": {},
   "cell_type": "markdown",
   "metadata": {},
   "source": [
    "This function takes a design ID as an argument and deletes the record from the \"designs\" table that matches that ID."
   ]
  }
 ],
 "metadata": {
  "kernelspec": {
   "display_name": "base",
   "language": "python",
   "name": "python3"
  },
  "language_info": {
   "codemirror_mode": {
    "name": "ipython",
    "version": 3
   },
   "file_extension": ".py",
   "mimetype": "text/x-python",
   "name": "python",
   "nbconvert_exporter": "python",
   "pygments_lexer": "ipython3",
   "version": "3.9.12"
  },
  "orig_nbformat": 4
 },
 "nbformat": 4,
 "nbformat_minor": 2
}
