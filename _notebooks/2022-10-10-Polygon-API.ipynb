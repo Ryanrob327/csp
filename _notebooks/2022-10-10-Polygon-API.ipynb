{
 "cells": [
  {
   "cell_type": "markdown",
   "metadata": {},
   "source": [
    "# Polygon API\n",
    "> shows how I used the polygon API to collect stock data\n",
    "\n",
    "- toc: true\n",
    "- branch: master\n",
    "- badges: true\n",
    "- comments: true\n",
    "- author: Ryan McWeeny\n",
    "- categories: [week7]"
   ]
  },
  {
   "cell_type": "code",
   "execution_count": 2,
   "metadata": {},
   "outputs": [
    {
     "name": "stdout",
     "output_type": "stream",
     "text": [
      "[Agg(open=174.57, high=178.49, low=174.44, close=178.44, volume=76545983.0, vwap=177.4855, timestamp=1649044800000, transactions=630374, otc=None)]\n"
     ]
    }
   ],
   "source": [
    "from polygon import RESTClient\n",
    "from typing import cast\n",
    "from urllib3 import HTTPResponse\n",
    "\n",
    "# API key for the stocks\n",
    "\n",
    "client = RESTClient(\"RQQmTlSXibKSclKn0R4lj2Vtmzvw1Fjv\") # api key in quotes\n",
    "\n",
    "aggs = client.get_aggs(\"AAPL\", 1, \"day\", \"2022-04-04\", \"2022-04-04\")\n",
    "print(aggs)"
   ]
  },
  {
   "cell_type": "code",
   "execution_count": 10,
   "metadata": {},
   "outputs": [
    {
     "name": "stdout",
     "output_type": "stream",
     "text": [
      "DailyOpenCloseAgg(after_hours=178.36, close=178.44, from_='2022-04-04', high=178.49, low=174.44, open=174.57, pre_market=174.18, status='OK', symbol='AAPL', volume=76545983.0, otc=None)\n",
      "AAPL\n",
      "174.57\n"
     ]
    }
   ],
   "source": [
    "stock = input(\"request stock above\")\n",
    "data = client.get_daily_open_close_agg(stock, \"2022-04-04\")\n",
    "\n",
    "\n",
    "print(data)\n",
    "print(data.symbol)\n",
    "print(data.open)"
   ]
  }
 ],
 "metadata": {
  "kernelspec": {
   "display_name": "Python 3.9.12 ('base')",
   "language": "python",
   "name": "python3"
  },
  "language_info": {
   "codemirror_mode": {
    "name": "ipython",
    "version": 3
   },
   "file_extension": ".py",
   "mimetype": "text/x-python",
   "name": "python",
   "nbconvert_exporter": "python",
   "pygments_lexer": "ipython3",
   "version": "3.9.12"
  },
  "orig_nbformat": 4,
  "vscode": {
   "interpreter": {
    "hash": "dea183ffc6c848431f9119977663213e228dddf001778cfd6d11b5eeef44c3af"
   }
  }
 },
 "nbformat": 4,
 "nbformat_minor": 2
}
