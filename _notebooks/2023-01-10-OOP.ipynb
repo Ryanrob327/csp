{
 "cells": [
  {
   "attachments": {},
   "cell_type": "markdown",
   "metadata": {},
   "source": [
    "# Lesson 17 and 18 hacks\n",
    "\n",
    "- toc: true\n",
    "- badges: true\n",
    "- comments: true\n",
    "- author: Ryan McWeeny\n",
    "- categories: [week17]"
   ]
  },
  {
   "attachments": {},
   "cell_type": "markdown",
   "metadata": {},
   "source": [
    "# User class\n",
    "\n",
    "I added a classOf function that calculates your class of graduation and adds it to the dictionary"
   ]
  },
  {
   "cell_type": "code",
   "execution_count": 12,
   "metadata": {},
   "outputs": [
    {
     "name": "stdout",
     "output_type": "stream",
     "text": [
      "JSON ready string:\n",
      " {\"name\": \"Ryan McWeeny\", \"uid\": \"Ryan\", \"dob\": \"03-27-2006\", \"age\": 16, \"class of graduation\": 2024} \n",
      "\n",
      "Raw Variables of object:\n",
      " {'_name': 'Ryan McWeeny', '_uid': 'Ryan', '_password': 'sha256$O5cjuN0ytlf7K9Kw$977f8890f49ea3b092448b374406d28c56820045029827c51a8bb3961ce54e79', '_dob': datetime.date(2006, 3, 27), '_classOf': 2024} \n",
      "\n",
      "Raw Attributes and Methods of object:\n",
      " ['__class__', '__delattr__', '__dict__', '__dir__', '__doc__', '__eq__', '__format__', '__ge__', '__getattribute__', '__gt__', '__hash__', '__init__', '__init_subclass__', '__le__', '__lt__', '__module__', '__ne__', '__new__', '__reduce__', '__reduce_ex__', '__repr__', '__setattr__', '__sizeof__', '__str__', '__subclasshook__', '__weakref__', '_classOf', '_dob', '_name', '_password', '_uid', 'age', 'classOf', 'dictionary', 'dob', 'is_password', 'is_uid', 'name', 'set_password', 'uid'] \n",
      "\n",
      "Representation to Re-Create the object:\n",
      " User(name=Ryan McWeeny, uid=Ryan, password=sha256$O5cjuN0ytlf7K9Kw$977f8890f49ea3b092448b374406d28c56820045029827c51a8bb3961ce54e79,dob=2006-03-27) \n",
      "\n"
     ]
    }
   ],
   "source": [
    "from werkzeug.security import generate_password_hash, check_password_hash\n",
    "from datetime import date\n",
    "import json\n",
    "\n",
    "class User:    \n",
    "\n",
    "    def __init__(self, name, uid, password, dob):\n",
    "        self._name = name    # variables with self prefix become part of the object, \n",
    "        self._uid = uid\n",
    "        self.set_password(password)\n",
    "        self._dob = dob\n",
    "        self._classOf = 0\n",
    "    \n",
    "    @property\n",
    "    def name(self):\n",
    "        return self._name\n",
    "    \n",
    "    # a setter function, allows name to be updated after initial object creation\n",
    "    @name.setter\n",
    "    def name(self, name):\n",
    "        self._name = name\n",
    "    \n",
    "    # a getter method, extracts email from object\n",
    "    @property\n",
    "    def uid(self):\n",
    "        return self._uid\n",
    "    \n",
    "    # a setter function, allows name to be updated after initial object creation\n",
    "    @uid.setter\n",
    "    def uid(self, uid):\n",
    "        self._uid = uid\n",
    "        \n",
    "    # check if uid parameter matches user id in object, return boolean\n",
    "    def is_uid(self, uid):\n",
    "        return self._uid == uid\n",
    "    \n",
    "    # dob property is returned as string, to avoid unfriendly outcomes\n",
    "    @property\n",
    "    def dob(self):\n",
    "        dob_string = self._dob.strftime('%m-%d-%Y')\n",
    "        return dob_string\n",
    "    \n",
    "    # dob should be have verification for type date\n",
    "    @dob.setter\n",
    "    def dob(self, dob):\n",
    "        self._dob = dob\n",
    "        \n",
    "    # age is calculated and returned each time it is accessed\n",
    "    @property\n",
    "    def age(self):\n",
    "        today = date.today()\n",
    "        return today.year - self._dob.year - ((today.month, today.day) < (self._dob.month, self._dob.day))\n",
    "    \n",
    "    # sets the class of graduation to 18 years after date of birth\n",
    "    def classOf(self):\n",
    "        self._classOf = self._dob.year + 18\n",
    "        return self._classOf\n",
    "    \n",
    "    # dictionary is customized, removing password for security purposes\n",
    "    @property\n",
    "    def dictionary(self):\n",
    "        dict = {\n",
    "            \"name\" : self.name,\n",
    "            \"uid\" : self.uid,\n",
    "            \"dob\" : self.dob,\n",
    "            \"age\" : self.age,\n",
    "            \"class of graduation\" : self._classOf\n",
    "        }\n",
    "        return dict\n",
    "    \n",
    "    # update password, this is conventional setter\n",
    "    def set_password(self, password):\n",
    "        \"\"\"Create a hashed password.\"\"\"\n",
    "        self._password = generate_password_hash(password, method='sha256')\n",
    "\n",
    "    # check password parameter versus stored/encrypted password\n",
    "    def is_password(self, password):\n",
    "        \"\"\"Check against hashed password.\"\"\"\n",
    "        result = check_password_hash(self._password, password)\n",
    "        return result\n",
    "        \n",
    "    # output content using json dumps, this is ready for API response\n",
    "    def __str__(self):\n",
    "        return json.dumps(self.dictionary)\n",
    "    \n",
    "    # output command to recreate the object, uses attribute directly\n",
    "    def __repr__(self):\n",
    "        return f'User(name={self._name}, uid={self._uid}, password={self._password},dob={self._dob})'\n",
    "    \n",
    "\n",
    "if __name__ == \"__main__\":\n",
    "    u1 = User(name='Ryan McWeeny', uid='Ryan', password='Password', dob=date(2006, 3, 27))\n",
    "    u1.classOf()\n",
    "    print(\"JSON ready string:\\n\", u1, \"\\n\") \n",
    "    print(\"Raw Variables of object:\\n\", vars(u1), \"\\n\") \n",
    "    print(\"Raw Attributes and Methods of object:\\n\", dir(u1), \"\\n\")\n",
    "    print(\"Representation to Re-Create the object:\\n\", repr(u1), \"\\n\")\n",
    "    #print(\"class of graduation: \", u1.classOf())\n"
   ]
  },
  {
   "attachments": {},
   "cell_type": "markdown",
   "metadata": {},
   "source": [
    "# CPT related class\n",
    "\n",
    "This class is related to my create performance task where the user plays a game about guessing the constructor of an F1 car"
   ]
  },
  {
   "cell_type": "code",
   "execution_count": 36,
   "metadata": {},
   "outputs": [
    {
     "name": "stdout",
     "output_type": "stream",
     "text": [
      "Sergio Perez\n",
      "dict_keys(['Max Verstappen'])\n",
      "dict_keys(['Logan Sargeant'])\n",
      "dict_keys(['Lando Norris'])\n",
      "dict_keys(['Pierre Gasly'])\n",
      "dict_keys(['Sergio Perez'])\n",
      "dict_keys(['Fernando Alonso'])\n",
      "None\n"
     ]
    }
   ],
   "source": [
    "import random\n",
    "\n",
    "class Constructor:\n",
    "    def __init__(self, drivers) -> None:\n",
    "        self.drivers = drivers\n",
    "        self.chosenDriver = None\n",
    "        \n",
    "    def chooseRandom(self):\n",
    "        randomNum = random.randint(0,len(self.drivers) - 1)\n",
    "        for key in self.drivers[randomNum]:\n",
    "            self.chosenDriver = key\n",
    "            return self.chosenDriver\n",
    "        \n",
    "    def guessConstructor(self):\n",
    "        for i in range(len(self.drivers)):\n",
    "            print(self.drivers[i].keys())\n",
    "            if self.chosenDriver == self.drivers[i].keys():\n",
    "                return \"yes\"\n",
    "                \n",
    "                \n",
    "        \n",
    "\n",
    "drivers = [\n",
    "           {\"Max Verstappen\": \"Red Bull\"},\n",
    "           {\"Logan Sargeant\": \"Williams\"},\n",
    "           {\"Lando Norris\": \"McLaren\"},\n",
    "           {\"Pierre Gasly\": \"Alpine\"},\n",
    "           {\"Sergio Perez\": \"Red Bull\"},\n",
    "           {\"Fernando Alonso\": \"Aston Martin Racing\"}\n",
    "            ]\n",
    "constructor = Constructor(drivers)\n",
    "\n",
    "print(constructor.chooseRandom())\n",
    "print(constructor.guessConstructor())"
   ]
  },
  {
   "cell_type": "code",
   "execution_count": null,
   "metadata": {},
   "outputs": [],
   "source": []
  }
 ],
 "metadata": {
  "kernelspec": {
   "display_name": "base",
   "language": "python",
   "name": "python3"
  },
  "language_info": {
   "codemirror_mode": {
    "name": "ipython",
    "version": 3
   },
   "file_extension": ".py",
   "mimetype": "text/x-python",
   "name": "python",
   "nbconvert_exporter": "python",
   "pygments_lexer": "ipython3",
   "version": "3.9.12"
  },
  "orig_nbformat": 4,
  "vscode": {
   "interpreter": {
    "hash": "dea183ffc6c848431f9119977663213e228dddf001778cfd6d11b5eeef44c3af"
   }
  }
 },
 "nbformat": 4,
 "nbformat_minor": 2
}
