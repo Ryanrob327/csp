{
 "cells": [
  {
   "cell_type": "markdown",
   "metadata": {},
   "source": [
    "# Python_List_Demonstration\n",
    "> This notebook demonstrates my understanding of lists in python\n",
    "\n",
    "- toc: true\n",
    "- branch: master\n",
    "- badges: true\n",
    "- comments: true\n",
    "- author: Ryan McWeeny\n",
    "- categories: [python, week2]"
   ]
  },
  {
   "cell_type": "markdown",
   "metadata": {},
   "source": [
    "## InfoDb\n",
    "Arrays or lists are very useful for storing information in an organized format. InfoDb is an array with information like names, date of birth, residence, cars, favorite shows, and favorite games. \".append\" is adding the information in parentheses to InfoDb."
   ]
  },
  {
   "cell_type": "code",
   "execution_count": 13,
   "metadata": {},
   "outputs": [
    {
     "name": "stdout",
     "output_type": "stream",
     "text": [
      "[{'FirstName': 'Joshua', 'MiddleName': 'Benjamin', 'LastName': 'Williams', 'DOB': 'January 6', 'Residence': 'San Diego', 'Owns_Cars': '2011 Nissan Versa', 'Show': 'SpongeBob', 'Game': 'Apex Legends'}, {'FirstName': 'Ryan', 'MiddleName': 'Robert', 'LastName': 'McWeeny', 'DOB': 'March 27', 'Residence': 'San Diego', 'Email': 'ryanrob327@gmail.com', 'Owns_Cars': '2016 GMC Acadia', 'Show': 'SpongeBob', 'Game': 'Minecraft'}]\n"
     ]
    }
   ],
   "source": [
    "# InfoDb is a list used to store data, here it is empty\n",
    "InfoDb = []\n",
    "\n",
    "# To add data to InfoDB we must use the .append function\n",
    "# A dictionary is made with curly braces {}\n",
    "InfoDb.append({\n",
    "    \"FirstName\": \"Joshua\",\n",
    "    \"MiddleName\": \"Benjamin\",\n",
    "    \"LastName\": \"Williams\",\n",
    "    \"DOB\": \"January 6\",\n",
    "    \"Residence\": \"San Diego\",\n",
    "    \"Owns_Cars\": \"2011 Nissan Versa\",\n",
    "    \"Show\": \"SpongeBob\",\n",
    "    \"Game\": \"Apex Legends\"\n",
    "})\n",
    "\n",
    "\n",
    "InfoDb.append({\n",
    "    \"FirstName\": \"Ryan\",\n",
    "    \"MiddleName\": \"Robert\",\n",
    "    \"LastName\": \"McWeeny\",\n",
    "    \"DOB\": \"March 27\",\n",
    "    \"Residence\": \"San Diego\",\n",
    "    \"Email\": \"ryanrob327@gmail.com\",\n",
    "    \"Owns_Cars\": \"2016 GMC Acadia\",\n",
    "    \"Show\": \"SpongeBob\",\n",
    "    \"Game\": \"Minecraft\"\n",
    "})\n",
    "\n",
    "# Print the data structure\n",
    "print(InfoDb)"
   ]
  },
  {
   "cell_type": "markdown",
   "metadata": {},
   "source": [
    "## Reversed list\n",
    "This block of code flips the order of a list and prints the flipped list using \".reverse()\" a function built into python that reverses the order of a list."
   ]
  },
  {
   "cell_type": "code",
   "execution_count": 11,
   "metadata": {},
   "outputs": [
    {
     "name": "stdout",
     "output_type": "stream",
     "text": [
      "Regular List: ['1', '2', '3', '4', '5', '6']\n",
      "Reversed List: ['6', '5', '4', '3', '2', '1']\n"
     ]
    }
   ],
   "source": [
    "# Reversed list\n",
    "list = [\"1\", \"2\", \"3\", \"4\", \"5\", \"6\"]\n",
    "print('Regular List:', list)\n",
    "list.reverse()\n",
    "print('Reversed List:', list)"
   ]
  },
  {
   "cell_type": "markdown",
   "metadata": {},
   "source": [
    "## Random list\n",
    "This block of code randomizes the order of a list and prints the randomized list using \"random.shuffle()\" a function from the random module built into python."
   ]
  },
  {
   "cell_type": "code",
   "execution_count": 12,
   "metadata": {},
   "outputs": [
    {
     "name": "stdout",
     "output_type": "stream",
     "text": [
      "Regular List: ['1', '2', '3', '4', '5', '6']\n",
      "Random List: ['3', '5', '1', '2', '4', '6']\n"
     ]
    }
   ],
   "source": [
    "# Randomized list\n",
    "import random\n",
    "\n",
    "print('Regular List:', list)\n",
    "random.shuffle(list)\n",
    "print('Random List:', list)"
   ]
  },
  {
   "cell_type": "markdown",
   "metadata": {},
   "source": [
    "## For Loop\n",
    "This is an example of printing the data from infoDb using a for loop, it repeats as many times as there are indices in InfoDb printing the result every loop. "
   ]
  },
  {
   "cell_type": "code",
   "execution_count": 10,
   "metadata": {},
   "outputs": [
    {
     "name": "stdout",
     "output_type": "stream",
     "text": [
      "For loop output\n",
      "\n",
      "Joshua Benjamin Williams\n",
      "\t Residence: San Diego\n",
      "\t Birth Day: January 6\n",
      "\t Cars:  2011 Nissan Versa\n",
      "\t Favorite show:  SpongeBob\n",
      "\t Favorite game:  Apex Legends\n",
      "Ryan Robert McWeeny\n",
      "\t Residence: San Diego\n",
      "\t Birth Day: March 27\n",
      "\t Cars:  2016 GMC Acadia\n",
      "\t Favorite show:  SpongeBob\n",
      "\t Favorite game:  Minecraft\n"
     ]
    }
   ],
   "source": [
    "def print_data(d_rec): # defines function that prints data\n",
    "    print(d_rec[\"FirstName\"], d_rec[\"MiddleName\"], d_rec[\"LastName\"])  # prints data from the dictionary\n",
    "    print(\"\\t\", \"Residence:\", d_rec[\"Residence\"]) \n",
    "    print(\"\\t\", \"Birth Day:\", d_rec[\"DOB\"])\n",
    "    print(\"\\t\", \"Cars: \", d_rec[\"Owns_Cars\"])  # end=\"\" make sure no return occurs\n",
    "    print(\"\\t\", \"Favorite show: \", d_rec[\"Show\"])\n",
    "    print(\"\\t\", \"Favorite game: \", d_rec[\"Game\"])\n",
    "\n",
    "\n",
    "# for loop iterates on length of InfoDb\n",
    "def for_loop():\n",
    "    print(\"For loop output\\n\")\n",
    "    for record in InfoDb:\n",
    "        print_data(record)\n",
    "\n",
    "for_loop()"
   ]
  },
  {
   "cell_type": "markdown",
   "metadata": {},
   "source": [
    "## While loop\n",
    "This block of code prints data from infoDb using a while loop, while i is less than the length of InfoDb i iterates through InfoDb printing the result every loop."
   ]
  },
  {
   "cell_type": "code",
   "execution_count": 11,
   "metadata": {},
   "outputs": [
    {
     "name": "stdout",
     "output_type": "stream",
     "text": [
      "While loop output\n",
      "\n",
      "Joshua Benjamin Williams\n",
      "\t Residence: San Diego\n",
      "\t Birth Day: January 6\n",
      "\t Cars:  2011 Nissan Versa\n",
      "\t Favorite show:  SpongeBob\n",
      "\t Favorite game:  Apex Legends\n",
      "Ryan Robert McWeeny\n",
      "\t Residence: San Diego\n",
      "\t Birth Day: March 27\n",
      "\t Cars:  2016 GMC Acadia\n",
      "\t Favorite show:  SpongeBob\n",
      "\t Favorite game:  Minecraft\n"
     ]
    }
   ],
   "source": [
    "# while loop contains an initial n and an index incrementing statement (n += 1)\n",
    "def while_loop():\n",
    "    print(\"While loop output\\n\")\n",
    "    i = 0\n",
    "    while i < len(InfoDb):\n",
    "        record = InfoDb[i]\n",
    "        print_data(record)\n",
    "        i += 1\n",
    "    return\n",
    "\n",
    "while_loop()"
   ]
  },
  {
   "cell_type": "markdown",
   "metadata": {},
   "source": [
    "## Recersive Loop\n",
    "This is a block of code that uses a repeating function to iterate through InfoDb and print the result. This function always calls itself after executing so that it can execute again, this process is called recursion."
   ]
  },
  {
   "cell_type": "code",
   "execution_count": 12,
   "metadata": {},
   "outputs": [
    {
     "name": "stdout",
     "output_type": "stream",
     "text": [
      "Recursive loop output\n",
      "\n",
      "Joshua Benjamin Williams\n",
      "\t Residence: San Diego\n",
      "\t Birth Day: January 6\n",
      "\t Cars:  2011 Nissan Versa\n",
      "\t Favorite show:  SpongeBob\n",
      "\t Favorite game:  Apex Legends\n",
      "Ryan Robert McWeeny\n",
      "\t Residence: San Diego\n",
      "\t Birth Day: March 27\n",
      "\t Cars:  2016 GMC Acadia\n",
      "\t Favorite show:  SpongeBob\n",
      "\t Favorite game:  Minecraft\n"
     ]
    }
   ],
   "source": [
    "# recursion simulates loop incrementing on each call (n + 1) until exit condition is met\n",
    "def recursive_loop(i):\n",
    "    if i < len(InfoDb):\n",
    "        record = InfoDb[i]\n",
    "        print_data(record)\n",
    "        recursive_loop(i + 1)\n",
    "    return\n",
    "    \n",
    "print(\"Recursive loop output\\n\")\n",
    "recursive_loop(0)"
   ]
  },
  {
   "cell_type": "markdown",
   "metadata": {},
   "source": [
    "## Quiz \n",
    "This is a quiz made using dictionaries and lists, it is made so that there is no repeating code. This quiz keeps track of your score every time you enter an answer and tells you if it is write or wrong."
   ]
  },
  {
   "cell_type": "code",
   "execution_count": 17,
   "metadata": {},
   "outputs": [
    {
     "name": "stdout",
     "output_type": "stream",
     "text": [
      "Take this quiz about planes.\n",
      "what is the fastest plane in the world\n",
      "SR-71\n",
      "Correct, you have  1  points!\n",
      "what is the hightest flying plane in the world\n",
      "X-15\n",
      "Correct, you have  2  points!\n",
      "what is the largest plane in the world\n",
      "U-2\n",
      "Incorrect, the answer was;  An-225\n",
      "what is the smallest plane in the world\n",
      "BD-5J\n",
      "Correct, you have  3  points!\n",
      "You have finished the quiz with  3  out of  4  points!\n"
     ]
    }
   ],
   "source": [
    "question = [] # creates empty list\n",
    "\n",
    "question.append({ # adds dictionary with question and answer to list using .append\n",
    "    \"Question\": \"what is the fastest plane in the world\",\n",
    "    \"Answer\": \"SR-71\",\n",
    "})\n",
    "question.append({\n",
    "    \"Question\": \"what is the hightest flying plane in the world\",\n",
    "    \"Answer\": \"X-15\",\n",
    "})\n",
    "question.append({\n",
    "    \"Question\": \"what is the largest plane in the world\",\n",
    "    \"Answer\": \"An-225\",\n",
    "})\n",
    "question.append({\n",
    "    \"Question\": \"what is the smallest plane in the world\",\n",
    "    \"Answer\": \"BD-5J\",\n",
    "})\n",
    "\n",
    "points = 0\n",
    "print(\"Take this quiz about planes.\")\n",
    "\n",
    "for i in question: # for loop repeats every time an answer is given\n",
    "    print(i[\"Question\"])\n",
    "    response = input(i[\"Question\"])\n",
    "    print(response)\n",
    "    \n",
    "    if response == i[\"Answer\"]:\n",
    "        points += 1\n",
    "        print(\"Correct, you have \", points, \" points!\")\n",
    "    else:\n",
    "        print(\"Incorrect, the answer was; \", i[\"Answer\"])\n",
    "\n",
    "print(\"You have finished the quiz with \", points, \" out of \", len(question), \" points!\")"
   ]
  }
 ],
 "metadata": {
  "kernelspec": {
   "display_name": "Python 3.8.10 64-bit",
   "language": "python",
   "name": "python3"
  },
  "language_info": {
   "codemirror_mode": {
    "name": "ipython",
    "version": 3
   },
   "file_extension": ".py",
   "mimetype": "text/x-python",
   "name": "python",
   "nbconvert_exporter": "python",
   "pygments_lexer": "ipython3",
   "version": "3.8.10"
  },
  "orig_nbformat": 4,
  "vscode": {
   "interpreter": {
    "hash": "916dbcbb3f70747c44a77c7bcd40155683ae19c65e1c03b4aa3499c5328201f1"
   }
  }
 },
 "nbformat": 4,
 "nbformat_minor": 2
}
