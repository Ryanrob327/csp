{
 "cells": [
  {
   "attachments": {},
   "cell_type": "markdown",
   "metadata": {},
   "source": [
    "# Lesson 17 and 18 hacks\n",
    "\n",
    "- toc: true\n",
    "- badges: true\n",
    "- comments: true\n",
    "- author: Ryan McWeeny\n",
    "- categories: [week17]"
   ]
  },
  {
   "cell_type": "code",
   "execution_count": 17,
   "metadata": {},
   "outputs": [
    {
     "name": "stdout",
     "output_type": "stream",
     "text": [
      "[16, 17]\n"
     ]
    }
   ],
   "source": [
    "from datetime import date\n",
    "\n",
    "\n",
    "class Student:\n",
    "    def __init__(self, classYear, born):\n",
    "        self._class = classYear\n",
    "        self.born = born\n",
    "\n",
    "    @property\n",
    "    def classOf(self):\n",
    "        return self._class\n",
    "    \n",
    "    @classOf.setter\n",
    "    def classOf(self, Graduation):\n",
    "        self._class = Graduation\n",
    "\n",
    "    def calculate_age(self):\n",
    "        today = date.today()\n",
    "        self.age = today.year - self.born.year - ((today.month, today.day) < (self.born.month, self.born.day))\n",
    "        return self.age\n",
    "\n",
    "\n",
    "def tester(students):\n",
    "    age = []\n",
    "    for student in students:\n",
    "        age.append(Student.calculate_age(student))\n",
    "    return age\n",
    "\n",
    "\n",
    "Ryan = Student(classYear=2024, born=date(2006, 3, 27))\n",
    "student2 = Student(classYear=2024, born=date(2005, 11, 5))\n",
    "    \n",
    "students = [Ryan, student2]\n",
    "\n",
    "get_students = tester(students)\n",
    "print(get_students)\n"
   ]
  },
  {
   "cell_type": "code",
   "execution_count": null,
   "metadata": {},
   "outputs": [],
   "source": []
  }
 ],
 "metadata": {
  "kernelspec": {
   "display_name": "base",
   "language": "python",
   "name": "python3"
  },
  "language_info": {
   "codemirror_mode": {
    "name": "ipython",
    "version": 3
   },
   "file_extension": ".py",
   "mimetype": "text/x-python",
   "name": "python",
   "nbconvert_exporter": "python",
   "pygments_lexer": "ipython3",
   "version": "3.9.12 (main, Apr  5 2022, 06:56:58) \n[GCC 7.5.0]"
  },
  "orig_nbformat": 4,
  "vscode": {
   "interpreter": {
    "hash": "dea183ffc6c848431f9119977663213e228dddf001778cfd6d11b5eeef44c3af"
   }
  }
 },
 "nbformat": 4,
 "nbformat_minor": 2
}
