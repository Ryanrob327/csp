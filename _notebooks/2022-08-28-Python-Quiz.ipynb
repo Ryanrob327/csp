{
 "cells": [
  {
   "cell_type": "markdown",
   "metadata": {},
   "source": [
    "# Python Quiz\n",
    "> This Jupyter Notebook demonstrates my understanding of python with a quiz that has no reoccurring code\n",
    "\n",
    "- toc: false\n",
    "- branch: master\n",
    "- badges: true\n",
    "- comments: false\n",
    "- author: Ryan McWeeny\n",
    "- categories: [fastpages, jupyter, python]"
   ]
  },
  {
   "cell_type": "code",
   "execution_count": 5,
   "metadata": {},
   "outputs": [
    {
     "name": "stdout",
     "output_type": "stream",
     "text": [
      "Take this quiz about planes.\n",
      "what is the fastest plane in the world\n",
      "SR-71\n",
      "Correct, you have  1  points!\n",
      "what is the hightest flying plane in the world\n",
      "X-15\n",
      "Correct, you have  2  points!\n",
      "what is the largest plane in the world\n",
      "U-2\n",
      "Incorrect, the answer was;  An-225\n",
      "what is the smallest plane in the world\n",
      "BD-5J\n",
      "Correct, you have  3  points!\n",
      "You have finished the quiz with  3  out of  4  points!\n"
     ]
    }
   ],
   "source": [
    "question = [\"what is the fastest plane in the world\", \"what is the hightest flying plane in the world\", \"what is the largest plane in the world\", \"what is the smallest plane in the world\"]\n",
    "answer = [\"SR-71\", \"X-15\", \"An-225\", \"BD-5J\"]\n",
    "points = 0\n",
    "\n",
    "print(\"Take this quiz about planes.\")\n",
    "\n",
    "for i in range(len(question)):\n",
    "    print(question[i])\n",
    "    response = input()\n",
    "    print(response)\n",
    "\n",
    "    if response == answer[i]:\n",
    "        points += 1\n",
    "        print(\"Correct, you have \", points, \" points!\")\n",
    "    else:\n",
    "        print(\"Incorrect, the answer was; \", answer[i])\n",
    "\n",
    "print(\"You have finished the quiz with \", points, \" out of \", len(question), \" points!\")"
   ]
  }
 ],
 "metadata": {
  "kernelspec": {
   "display_name": "Python 3.8.10 64-bit",
   "language": "python",
   "name": "python3"
  },
  "language_info": {
   "codemirror_mode": {
    "name": "ipython",
    "version": 3
   },
   "file_extension": ".py",
   "mimetype": "text/x-python",
   "name": "python",
   "nbconvert_exporter": "python",
   "pygments_lexer": "ipython3",
   "version": "3.8.10"
  },
  "orig_nbformat": 4,
  "vscode": {
   "interpreter": {
    "hash": "916dbcbb3f70747c44a77c7bcd40155683ae19c65e1c03b4aa3499c5328201f1"
   }
  }
 },
 "nbformat": 4,
 "nbformat_minor": 2
}
