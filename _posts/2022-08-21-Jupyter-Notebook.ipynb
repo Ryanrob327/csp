{
 "cells": [
  {
   "cell_type": "code",
   "execution_count": null,
   "metadata": {},
   "outputs": [],
   "source": [
    "toc: false\n",
    "layout: post\n",
    "description: The first post I made with markdown\n",
    "categories: [markdown]\n",
    "title: First Markdown\n",
    "\n",
    "```python\n",
    "Print(\"Hello World\")\n",
    "```"
   ]
  }
 ],
 "metadata": {
  "language_info": {
   "name": "python"
  },
  "orig_nbformat": 4
 },
 "nbformat": 4,
 "nbformat_minor": 2
}
