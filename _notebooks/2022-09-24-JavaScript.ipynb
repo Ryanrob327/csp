{
 "cells": [
  {
   "cell_type": "markdown",
   "metadata": {},
   "source": [
    "# JavaScript\n",
    "> This notebook demonstrates my understanding of basic JavaScript syntax\n",
    "\n",
    "- toc: true\n",
    "- branch: master\n",
    "- badges: true\n",
    "- comments: true\n",
    "- author: Ryan McWeeny\n",
    "- categories: [week5]"
   ]
  },
  {
   "cell_type": "markdown",
   "metadata": {},
   "source": [
    "{% include frontend.html %}"
   ]
  },
  {
   "cell_type": "markdown",
   "metadata": {},
   "source": [
    "# Console.log output\n",
    "This Code cell outputs a string stored in a variable."
   ]
  },
  {
   "cell_type": "code",
   "execution_count": 2,
   "metadata": {},
   "outputs": [
    {
     "name": "stdout",
     "output_type": "stream",
     "text": [
      "Hello World\n"
     ]
    }
   ],
   "source": [
    "var text = \"Hello World\";\n",
    "console.log(text);"
   ]
  },
  {
   "cell_type": "markdown",
   "metadata": {},
   "source": [
    "# Function\n",
    "This code cell uses a function to outputs a string."
   ]
  },
  {
   "cell_type": "code",
   "execution_count": 4,
   "metadata": {},
   "outputs": [
    {
     "name": "stdout",
     "output_type": "stream",
     "text": [
      "Hello World\n"
     ]
    }
   ],
   "source": [
    "function Print(Text) {\n",
    "    console.log(Text);\n",
    "}\n",
    "Print(text);"
   ]
  },
  {
   "cell_type": "markdown",
   "metadata": {},
   "source": [
    "# Data types\n",
    "This code cell demonstrates the different data types in JavaScript by outputting them with a function."
   ]
  },
  {
   "cell_type": "code",
   "execution_count": 11,
   "metadata": {},
   "outputs": [
    {
     "name": "stdout",
     "output_type": "stream",
     "text": [
      "string ,  string\n",
      "number ,  1\n",
      "boolean ,  true\n",
      "object ,  [ 'A', 'B', 'C' ]\n"
     ]
    }
   ],
   "source": [
    "function PrintType(output) {\n",
    "    console.log(typeof output, \", \", output);\n",
    "}\n",
    "PrintType(\"string\");\n",
    "PrintType(1);\n",
    "PrintType(true);\n",
    "PrintType([\"A\",\"B\",\"C\"]);"
   ]
  },
  {
   "cell_type": "markdown",
   "metadata": {},
   "source": [
    "# Operators"
   ]
  },
  {
   "cell_type": "code",
   "execution_count": 12,
   "metadata": {},
   "outputs": [
    {
     "name": "stdout",
     "output_type": "stream",
     "text": [
      "2\n",
      "0\n",
      "2\n",
      "0.5\n",
      "1\n"
     ]
    }
   ],
   "source": [
    "var addition = 1+1;\n",
    "console.log(addition);\n",
    "\n",
    "var subtraction = 1-1;\n",
    "console.log(subtraction);\n",
    "\n",
    "var multiplication = 1*2;\n",
    "console.log(multiplication);\n",
    "\n",
    "var division = 1/2;\n",
    "console.log(division);\n",
    "\n",
    "var modulus = 3%2; // division remainder\n",
    "console.log(modulus);"
   ]
  },
  {
   "cell_type": "markdown",
   "metadata": {},
   "source": [
    "# Classes\n",
    "- function allows for gathering data, the function \"Person\" collects a name, age, residence, and role\n",
    "- prototype allows for associating methods to a function,the prototype \"setRole\" allows for you to change the data type \"role\" in the function \"Person\""
   ]
  },
  {
   "cell_type": "code",
   "execution_count": 17,
   "metadata": {},
   "outputs": [
    {
     "name": "stdout",
     "output_type": "stream",
     "text": [
      "object ,  Person { name: 'Ryan', age: 16, residence: 'SanDiego', role: '' }\n",
      "string ,  {\"name\":\"Ryan\",\"age\":16,\"residence\":\"SanDiego\",\"role\":\"\"}\n",
      "object ,  Person { name: 'Ryan', age: 16, residence: 'SanDiego', role: 'Student' }\n",
      "string ,  {\"name\":\"Ryan\",\"age\":16,\"residence\":\"SanDiego\",\"role\":\"Student\"}\n"
     ]
    }
   ],
   "source": [
    "// define a function to hold data for a Person\n",
    "function Person(name, age, residence) {\n",
    "    this.name = name;\n",
    "    this.age = age;\n",
    "    this.residence = residence;\n",
    "    this.role = \"\";\n",
    "}\n",
    "\n",
    "// define a setter for role in Person data\n",
    "Person.prototype.setRole = function(role) {\n",
    "    this.role = role;\n",
    "}\n",
    "\n",
    "// define a JSON conversion \"method\" associated with Person\n",
    "Person.prototype.toJSON = function() {\n",
    "    const obj = {name: this.name, age: this.age, residence: this.residence, role: this.role};\n",
    "    const json = JSON.stringify(obj);\n",
    "    return json;\n",
    "}\n",
    "\n",
    "// make a new Person and assign to variable student\n",
    "var student = new Person(\"Ryan\", 16, \"SanDiego\");  // object type is easy to work with in JavaScript\n",
    "PrintType(student);  // before role\n",
    "PrintType(student.toJSON());\n",
    "\n",
    "// output of Object and JSON/string associated with student\n",
    "student.setRole(\"Student\");   // set the role\n",
    "PrintType(student); \n",
    "PrintType(student.toJSON());  "
   ]
  }
 ],
 "metadata": {
  "kernelspec": {
   "display_name": "JavaScript (Node.js)",
   "language": "javascript",
   "name": "javascript"
  },
  "language_info": {
   "file_extension": ".js",
   "mimetype": "application/javascript",
   "name": "javascript",
   "version": "6.11.2"
  },
  "orig_nbformat": 4,
  "vscode": {
   "interpreter": {
    "hash": "916dbcbb3f70747c44a77c7bcd40155683ae19c65e1c03b4aa3499c5328201f1"
   }
  }
 },
 "nbformat": 4,
 "nbformat_minor": 2
}
