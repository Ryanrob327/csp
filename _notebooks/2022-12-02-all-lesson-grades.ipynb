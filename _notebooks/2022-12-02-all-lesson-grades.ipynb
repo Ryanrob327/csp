{
 "cells": [
  {
   "cell_type": "markdown",
   "metadata": {},
   "source": [
    "# lesson grades\n",
    "\n",
    "- toc: true\n",
    "- badges: true\n",
    "- comments: true\n",
    "- author: Ryan McWeeny\n",
    "- categories: [week14, week15, week16]"
   ]
  },
  {
   "cell_type": "markdown",
   "metadata": {},
   "source": [
    "Lessons 3.1-3.2\n",
    "  - 0.8\n",
    "  - It is hard to tell what I did wrong because my only feedback was \"missing hacks\" which is not very specific. To fix this problem in the future I will make sure to double check the directions before submitting.\n",
    "  \n",
    "\n",
    "Lessons 3.3-3.4\n",
    "  - 0.85\n",
    "  - With this lesson I met all requirements but I used a somewhat lazy format with tables where I only gave the question and answer, because of this I got marked down for no explanations of my answers. To fix this problem in the future I will add a third column that explains how I came to a certain answer when I get more multiple choice problems.\n",
    "  \n",
    "  \n",
    "Lessons 3.5-3.7\n",
    "  - 0.9\n",
    "  - With this lesson I met all requirements and did not go above and beyond, I feel that I learned from this lesson and the grade I earned was appropriate I fixed the errors I made last week by taking extra notes.\n",
    "\n",
    "\n",
    "Lessons 3.8 and 3.10\n",
    "  - N/A\n",
    "\n",
    "\n",
    "Lessons 3.9 and 3.11\n",
    "  - TBD\n",
    "\n",
    "\n",
    "Lessons 3.12-3.13\n",
    "  - TBD\n",
    "\n",
    "\n",
    "Lessons 3.14-3.15\n",
    "  - TBD\n",
    "\n",
    "\n",
    "Lessons 3.16\n",
    "  - TBD\n",
    "\n",
    "\n",
    "Lessons 3.17-3.18\n",
    "  - TBD"
   ]
  }
 ],
 "metadata": {
  "kernelspec": {
   "display_name": "Python 3.9.12 ('base')",
   "language": "python",
   "name": "python3"
  },
  "language_info": {
   "name": "python",
   "version": "3.9.12"
  },
  "orig_nbformat": 4,
  "vscode": {
   "interpreter": {
    "hash": "dea183ffc6c848431f9119977663213e228dddf001778cfd6d11b5eeef44c3af"
   }
  }
 },
 "nbformat": 4,
 "nbformat_minor": 2
}
