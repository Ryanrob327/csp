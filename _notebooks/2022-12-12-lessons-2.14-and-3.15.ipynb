{
 "cells": [
  {
   "attachments": {},
   "cell_type": "markdown",
   "metadata": {},
   "source": [
    "# Lessons 3.14-3.15 hacks\n",
    "\n",
    "- toc: true\n",
    "- badges: true\n",
    "- comments: true\n",
    "- author: Ryan McWeeny\n",
    "- categories: [week16]"
   ]
  },
  {
   "attachments": {},
   "cell_type": "markdown",
   "metadata": {},
   "source": [
    "# Reflection\n",
    "## Vocab\n",
    "- Documentation:  Text that explains the what, how, or why of your code.\n",
    "- Libraries:  A collection of prewritten code or procedures that coders can use to maximize their efficiency.\n",
    "- Application Programming Interface:  A type of software through several computers are able to communicate information amongst each other.\n",
    "\n",
    "## Notes\n",
    "- Libraries contain procedures that make programming easier.\n",
    "- procedures are especially good for reusing segments of code by calling the procedure.\n",
    "- random procedure: Random(a,b) provides a random number in the range [a, b]\n",
    "\n",
    "# Hacks\n",
    "## Multiple Choice\n",
    "  1. B) a random integer between 'a' and 'b' inclusive\n",
    "  2. A) x = start, y = stop, z = step\n",
    "  3. A) random.item() does not exist\n",
    "\n",
    "## Short Answer\n",
    "  1. Libraries are convenient because they provide procedures and prewritten code to maximize the efficiency of programmers\n",
    "  2. This procedure takes a list of strings and returns who will buy the meal today\n"
   ]
  },
  {
   "cell_type": "code",
   "execution_count": null,
   "metadata": {},
   "outputs": [],
   "source": [
    "import random \n",
    "\n",
    "# takes user input, puts it into a list of names\n",
    "names_string = input(\"Give me everybody's names, seperated by a comma.\")\n",
    "names = names_string.split(\",\")\n",
    "\n",
    "num_items = len(names)\n",
    "\n",
    "# uses random to choose a random number\n",
    "random_choice = random.randint(0, num_items - 1)\n",
    "\n",
    "# associates random number with a name\n",
    "person_who_will_pay = names[random_choice]\n",
    "\n",
    "# prints name\n",
    "print(f\"{person_who_will_pay} is going to buy the meal today!\")"
   ]
  },
  {
   "attachments": {},
   "cell_type": "markdown",
   "metadata": {},
   "source": [
    "## Coding challenges"
   ]
  },
  {
   "cell_type": "code",
   "execution_count": 7,
   "metadata": {},
   "outputs": [
    {
     "name": "stdout",
     "output_type": "stream",
     "text": [
      "['Charles', 'BigChungus', 'Rohin', 'Dorian', 'Aiden']\n"
     ]
    }
   ],
   "source": [
    "import random\n",
    "NAMES = [\"Aiden\", \"Brayden\", \"Bradley\", \"Harambe\", \"Charles\", \"BigChungus\", \"Chad\", \"Brett\", \"Dorian\", \"Ryan\", \"Varalu\", \"Rohin\", \"Advay\", \"SmallChungus\"]\n",
    "rand_list = []\n",
    "\n",
    "def randomPeople(names, new_names):\n",
    "    count = 1\n",
    "    while count <= 5:\n",
    "        number = random.randint(0, len(names) - 1)\n",
    "        new_names.append(names[number])\n",
    "        count += 1\n",
    "    return new_names\n",
    "\n",
    "print(randomPeople(NAMES, rand_list))"
   ]
  },
  {
   "cell_type": "code",
   "execution_count": 4,
   "metadata": {},
   "outputs": [
    {
     "name": "stdout",
     "output_type": "stream",
     "text": [
      "Player 1 won with a score of 9 points!\n"
     ]
    }
   ],
   "source": [
    "import random\n",
    "score1 = 0\n",
    "score2 = 0\n",
    "\n",
    "def greatestRoll():\n",
    "    score1 = random.randint(1, 6) + random.randint(1, 6)\n",
    "    score2 = random.randint(1, 6) + random.randint(1, 6)\n",
    "    if score1 > score2:\n",
    "        print(\"Player 1 won with a score of \" + str(score1) + \" points!\")\n",
    "    if score1 < score2:\n",
    "        print(\"Player 2 won with a score of \" + str(score2) + \" points!\")\n",
    "    if score1 == score2:\n",
    "        print(\"Both players tied with \" + str(score1) + \" points!\")\n",
    "\n",
    "greatestRoll()\n"
   ]
  }
 ],
 "metadata": {
  "kernelspec": {
   "display_name": "base",
   "language": "python",
   "name": "python3"
  },
  "language_info": {
   "codemirror_mode": {
    "name": "ipython",
    "version": 3
   },
   "file_extension": ".py",
   "mimetype": "text/x-python",
   "name": "python",
   "nbconvert_exporter": "python",
   "pygments_lexer": "ipython3",
   "version": "3.9.12"
  },
  "orig_nbformat": 4,
  "vscode": {
   "interpreter": {
    "hash": "dea183ffc6c848431f9119977663213e228dddf001778cfd6d11b5eeef44c3af"
   }
  }
 },
 "nbformat": 4,
 "nbformat_minor": 2
}
