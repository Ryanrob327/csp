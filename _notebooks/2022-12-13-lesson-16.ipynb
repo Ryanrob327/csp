{
 "cells": [
  {
   "attachments": {},
   "cell_type": "markdown",
   "metadata": {},
   "source": [
    "# Lesson 16 hacks\n",
    "\n",
    "- toc: true\n",
    "- badges: true\n",
    "- comments: true\n",
    "- author: Ryan McWeeny\n",
    "- categories: [week16]"
   ]
  },
  {
   "attachments": {},
   "cell_type": "markdown",
   "metadata": {},
   "source": [
    "# Vocab\n",
    "  - Simulation: simpler abstraction of a complicated natural phenomena\n",
    "  - Experiment: done in the real world and provide actual results\n",
    "\n",
    "# Notes\n",
    "  - Simulations are safer than experiments, less expensive, repeatable, and can make predictions\n",
    "  - remove details using random numbers\n",
    "\n",
    "\n",
    "# Hacks\n",
    "## Multiple Choice\n",
    "| Question    | Answer      |\n",
    "| ----------- | ----------- |\n",
    "| Ryan McWeeny|        |\n",
    "| 1.          |        |\n",
    "| 2.          |        |\n",
    "| 3.          |        |\n",
    "| 4.          | C       |\n",
    "| 5.          | C       |\n",
    "| 6.          | B       |\n",
    "| 7.          | A       |\n",
    "| 8.          |        |\n",
    "| 9.          | A       |\n",
    "\n",
    "## Extra Credit\n",
    "This simulation find the total result of rolling the inputted number of dice"
   ]
  },
  {
   "cell_type": "code",
   "execution_count": 19,
   "metadata": {},
   "outputs": [
    {
     "name": "stdout",
     "output_type": "stream",
     "text": [
      "The result of rolling 3 times is: 11\n"
     ]
    }
   ],
   "source": [
    "import random\n",
    "\n",
    "rollAmount = int(input(\"how many times would you like to roll?\"))\n",
    "result = 0\n",
    "\n",
    "for i in range(0, rollAmount):\n",
    "    result += random.randint(1,6)\n",
    "print(\"The result of rolling \" + str(rollAmount) + \" times is: \" + str(result))"
   ]
  }
 ],
 "metadata": {
  "kernelspec": {
   "display_name": "base",
   "language": "python",
   "name": "python3"
  },
  "language_info": {
   "codemirror_mode": {
    "name": "ipython",
    "version": 3
   },
   "file_extension": ".py",
   "mimetype": "text/x-python",
   "name": "python",
   "nbconvert_exporter": "python",
   "pygments_lexer": "ipython3",
   "version": "3.9.12"
  },
  "orig_nbformat": 4,
  "vscode": {
   "interpreter": {
    "hash": "dea183ffc6c848431f9119977663213e228dddf001778cfd6d11b5eeef44c3af"
   }
  }
 },
 "nbformat": 4,
 "nbformat_minor": 2
}
