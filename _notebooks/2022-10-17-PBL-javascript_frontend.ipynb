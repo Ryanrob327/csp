{
 "cells": [
  {
   "cell_type": "markdown",
   "metadata": {},
   "source": [
    "# HTML frontend\n",
    "> Frontend using html and javascript\n",
    "- toc: true\n",
    "- comments: false\n",
    "- permalink: HTMLfrontend\n",
    "- categories: [week9]"
   ]
  },
  {
   "cell_type": "markdown",
   "metadata": {},
   "source": [
    "# code breakdown\n",
    "## html table:\n",
    "- < table > creates a TABLE \n",
    "- < tr > creates a ROW\n",
    "- < th > makes the text a column HEADER\n",
    "- < tbody  id = \"results\" > defines an element id, to be used within JavaScript\n",
    "\n",
    "This code creates two tables in html that display covid statistics.\n"
   ]
  },
  {
   "cell_type": "code",
   "execution_count": null,
   "metadata": {
    "vscode": {
     "languageId": "html"
    }
   },
   "outputs": [],
   "source": [
    "<!-- HTML table fragment for page -->\n",
    "<table>\n",
    "  <thead>\n",
    "  <tr>\n",
    "    <th>Time</th>\n",
    "    <th>All-time Cases</th>\n",
    "    <th>Recorded Deaths</th>\n",
    "    <th>Active Cases</th>\n",
    "  </tr>\n",
    "  </thead>\n",
    "  <tbody>\n",
    "    <td id=\"time\"></td>\n",
    "    <td id=\"total_cases\"></td>\n",
    "    <td id=\"total_deaths\"></td>\n",
    "    <td id=\"active_cases\"></td>\n",
    "  </tbody>\n",
    "</table>\n",
    "\n",
    "<table>\n",
    "  <thead>\n",
    "  <tr>\n",
    "    <th>Country</th>\n",
    "    <th>All-time Cases</th>\n",
    "    <th>Recorded Deaths</th>\n",
    "    <th>Active Cases</th>\n",
    "  </tr>\n",
    "  </thead>\n",
    "  <tbody id=\"result\">\n",
    "    <!-- generated rows -->\n",
    "  </tbody>\n",
    "</table>"
   ]
  },
  {
   "cell_type": "markdown",
   "metadata": {},
   "source": [
    "## Constant variables\n",
    "\n",
    "This code gathers data and stores them in variables with the \"const\" keyword, \"const\" means that you cannot change the variable beyond its declaration. \n",
    "\n",
    "Key things to know:\n",
    "- The document object \"result\" represents table body in the HTML above.\n",
    "- If you want to access any element in an HTML page in JavaScript, you always start by accessing the document object.  In this case, we are accessing \"result\" and defining a \"resultContainer\"\n",
    "- In the code, in following cells, document elements are created and organized for each Joke, each is added to the \"resultContainer\" as a row in the table body.\n",
    "- Accessing the api is done using the variables url and options, this is setup to fetch the Jokes from the backend"
   ]
  },
  {
   "cell_type": "code",
   "execution_count": null,
   "metadata": {
    "vscode": {
     "languageId": "javascript"
    }
   },
   "outputs": [],
   "source": [
    "// prepare HTML result container for new output\n",
    "const resultContainer = document.getElementById(\"result\");\n",
    "\n",
    "// prepare fetch options\n",
    "const url = \"https://flask.nighthawkcodingsociety.com/api/covid/\";\n",
    "const headers = {\n",
    "  method: 'GET', // *GET, POST, PUT, DELETE, etc.\n",
    "  mode: 'cors', // no-cors, *cors, same-origin\n",
    "  cache: 'default', // *default, no-cache, reload, force-cache, only-if-cached\n",
    "  credentials: 'omit', // include, *same-origin, omit\n",
    "  headers: {\n",
    "    'Content-Type': 'application/json'\n",
    "    // 'Content-Type': 'application/x-www-form-urlencoded',\n",
    "  },\n",
    "};"
   ]
  },
  {
   "cell_type": "markdown",
   "metadata": {},
   "source": [
    "## Fetch\n",
    "\n",
    "This code uses the \"fetch\" keyword to get API data and add that to the table\n",
    "\n",
    "Key things to understand:\n",
    "- The \"url\" \"response\" is checked in case the site is down and returns an error\n",
    "- On successful fetch, the code places each Joke in the HTML table body using a \"for\" loop and creating document elements from each \"row\" of the fetched \"data\".\n",
    "- The creation of each Haha and Boohoo \"onclick\" \"button\" is also done in the same loop.\n",
    "- Updates to backend are setup to occur with each onclick, each click calls the \"reaction\" function"
   ]
  },
  {
   "cell_type": "code",
   "execution_count": null,
   "metadata": {
    "vscode": {
     "languageId": "javascript"
    }
   },
   "outputs": [],
   "source": [
    "// fetch the API\n",
    "fetch(url, headers)\n",
    "// response is a RESTful \"promise\" on any successful fetch\n",
    ".then(response => {\n",
    "  // check for response errors\n",
    "  if (response.status !== 200) {\n",
    "      const errorMsg = 'Database response error: ' + response.status;\n",
    "      console.log(errorMsg);\n",
    "      const tr = document.createElement(\"tr\");\n",
    "      const td = document.createElement(\"td\");\n",
    "      td.innerHTML = errorMsg;\n",
    "      tr.appendChild(td);\n",
    "      resultContainer.appendChild(tr);\n",
    "      return;\n",
    "  }\n",
    "  // valid response will have json data\n",
    "  response.json().then(data => {\n",
    "      console.log(data);\n",
    "      console.log(data.world_total)\n",
    "\n",
    "      // World Data\n",
    "      document.getElementById(\"time\").innerHTML = data.world_total.statistic_taken_at;\n",
    "      document.getElementById(\"total_cases\").innerHTML = data.world_total.total_cases;\n",
    "      document.getElementById(\"total_deaths\").innerHTML = data.world_total.total_deaths;\n",
    "      document.getElementById(\"active_cases\").innerHTML = data.world_total.active_cases;\n",
    "\n",
    "      // Country data\n",
    "      for (const row of data.countries_stat) {\n",
    "        console.log(row);\n",
    "\n",
    "        // tr for each row\n",
    "        const tr = document.createElement(\"tr\");\n",
    "        // td for each column\n",
    "        const name = document.createElement(\"td\");\n",
    "        const cases = document.createElement(\"td\");\n",
    "        const deaths = document.createElement(\"td\");\n",
    "        const active = document.createElement(\"td\");\n",
    "\n",
    "        // data is specific to the API\n",
    "        name.innerHTML = row.country_name;\n",
    "        cases.innerHTML = row.cases; \n",
    "        deaths.innerHTML = row.deaths; \n",
    "        active.innerHTML = row.active_cases; \n",
    "\n",
    "        // this builds td's into tr\n",
    "        tr.appendChild(name);\n",
    "        tr.appendChild(cases);\n",
    "        tr.appendChild(deaths);\n",
    "        tr.appendChild(active);\n",
    "\n",
    "        // add HTML to container\n",
    "        resultContainer.appendChild(tr);\n",
    "      }\n",
    "  })\n",
    "})"
   ]
  },
  {
   "cell_type": "markdown",
   "metadata": {},
   "source": [
    "## catch errors\n",
    "\n",
    "This code catches errors if access to the server is blocked"
   ]
  },
  {
   "cell_type": "code",
   "execution_count": null,
   "metadata": {
    "vscode": {
     "languageId": "javascript"
    }
   },
   "outputs": [],
   "source": [
    "// catch fetch errors (ie ACCESS to server blocked)\n",
    ".catch(err => {\n",
    "  console.error(err);\n",
    "  const tr = document.createElement(\"tr\");\n",
    "  const td = document.createElement(\"td\");\n",
    "  td.innerHTML = err;\n",
    "  tr.appendChild(td);\n",
    "  resultContainer.appendChild(tr);\n",
    "});\n",
    "\n"
   ]
  },
  {
   "cell_type": "markdown",
   "metadata": {},
   "source": [
    "# full code"
   ]
  },
  {
   "cell_type": "code",
   "execution_count": null,
   "metadata": {
    "vscode": {
     "languageId": "javascript"
    }
   },
   "outputs": [],
   "source": [
    "<!-- HTML table fragment for page -->\n",
    "<table>\n",
    "  <thead>\n",
    "  <tr>\n",
    "    <th>Time</th>\n",
    "    <th>All-time Cases</th>\n",
    "    <th>Recorded Deaths</th>\n",
    "    <th>Active Cases</th>\n",
    "  </tr>\n",
    "  </thead>\n",
    "  <tbody>\n",
    "    <td id=\"time\"></td>\n",
    "    <td id=\"total_cases\"></td>\n",
    "    <td id=\"total_deaths\"></td>\n",
    "    <td id=\"active_cases\"></td>\n",
    "  </tbody>\n",
    "</table>\n",
    "\n",
    "<table>\n",
    "  <thead>\n",
    "  <tr>\n",
    "    <th>Country</th>\n",
    "    <th>All-time Cases</th>\n",
    "    <th>Recorded Deaths</th>\n",
    "    <th>Active Cases</th>\n",
    "  </tr>\n",
    "  </thead>\n",
    "  <tbody id=\"result\">\n",
    "    <!-- generated rows -->\n",
    "  </tbody>\n",
    "</table>\n",
    "\n",
    "<!-- Script is layed out in a sequence (no function) and will execute when page is loaded -->\n",
    "<script>\n",
    "  // prepare HTML result container for new output\n",
    "  const resultContainer = document.getElementById(\"result\");\n",
    "\n",
    "  // prepare fetch options\n",
    "  const url = \"https://flask.nighthawkcodingsociety.com/api/covid/\";\n",
    "  const headers = {\n",
    "    method: 'GET', // *GET, POST, PUT, DELETE, etc.\n",
    "    mode: 'cors', // no-cors, *cors, same-origin\n",
    "    cache: 'default', // *default, no-cache, reload, force-cache, only-if-cached\n",
    "    credentials: 'omit', // include, *same-origin, omit\n",
    "    headers: {\n",
    "      'Content-Type': 'application/json'\n",
    "      // 'Content-Type': 'application/x-www-form-urlencoded',\n",
    "    },\n",
    "  };\n",
    "\n",
    "  // fetch the API\n",
    "  fetch(url, headers)\n",
    "    // response is a RESTful \"promise\" on any successful fetch\n",
    "    .then(response => {\n",
    "      // check for response errors\n",
    "      if (response.status !== 200) {\n",
    "          const errorMsg = 'Database response error: ' + response.status;\n",
    "          console.log(errorMsg);\n",
    "          const tr = document.createElement(\"tr\");\n",
    "          const td = document.createElement(\"td\");\n",
    "          td.innerHTML = errorMsg;\n",
    "          tr.appendChild(td);\n",
    "          resultContainer.appendChild(tr);\n",
    "          return;\n",
    "      }\n",
    "      // valid response will have json data\n",
    "      response.json().then(data => {\n",
    "          console.log(data);\n",
    "          console.log(data.world_total)\n",
    "\n",
    "          // World Data\n",
    "          document.getElementById(\"time\").innerHTML = data.world_total.statistic_taken_at;\n",
    "          document.getElementById(\"total_cases\").innerHTML = data.world_total.total_cases;\n",
    "          document.getElementById(\"total_deaths\").innerHTML = data.world_total.total_deaths;\n",
    "          document.getElementById(\"active_cases\").innerHTML = data.world_total.active_cases;\n",
    "\n",
    "          // Country data\n",
    "          for (const row of data.countries_stat) {\n",
    "            console.log(row);\n",
    "\n",
    "            // tr for each row\n",
    "            const tr = document.createElement(\"tr\");\n",
    "            // td for each column\n",
    "            const name = document.createElement(\"td\");\n",
    "            const cases = document.createElement(\"td\");\n",
    "            const deaths = document.createElement(\"td\");\n",
    "            const active = document.createElement(\"td\");\n",
    "\n",
    "            // data is specific to the API\n",
    "            name.innerHTML = row.country_name;\n",
    "            cases.innerHTML = row.cases; \n",
    "            deaths.innerHTML = row.deaths; \n",
    "            active.innerHTML = row.active_cases; \n",
    "\n",
    "            // this builds td's into tr\n",
    "            tr.appendChild(name);\n",
    "            tr.appendChild(cases);\n",
    "            tr.appendChild(deaths);\n",
    "            tr.appendChild(active);\n",
    "\n",
    "            // add HTML to container\n",
    "            resultContainer.appendChild(tr);\n",
    "          }\n",
    "      })\n",
    "  })\n",
    "  // catch fetch errors (ie ACCESS to server blocked)\n",
    "  .catch(err => {\n",
    "    console.error(err);\n",
    "    const tr = document.createElement(\"tr\");\n",
    "    const td = document.createElement(\"td\");\n",
    "    td.innerHTML = err;\n",
    "    tr.appendChild(td);\n",
    "    resultContainer.appendChild(tr);\n",
    "  });\n",
    "</script>\n"
   ]
  }
 ],
 "metadata": {
  "kernelspec": {
   "display_name": "Python 3.9.12 ('base')",
   "language": "python",
   "name": "python3"
  },
  "language_info": {
   "codemirror_mode": {
    "name": "ipython",
    "version": 3
   },
   "file_extension": ".py",
   "mimetype": "text/x-python",
   "name": "python",
   "nbconvert_exporter": "python",
   "pygments_lexer": "ipython3",
   "version": "3.9.12"
  },
  "orig_nbformat": 4,
  "vscode": {
   "interpreter": {
    "hash": "dea183ffc6c848431f9119977663213e228dddf001778cfd6d11b5eeef44c3af"
   }
  }
 },
 "nbformat": 4,
 "nbformat_minor": 2
}
