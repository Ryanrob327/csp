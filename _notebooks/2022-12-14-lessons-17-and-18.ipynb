{
 "cells": [
  {
   "attachments": {},
   "cell_type": "markdown",
   "metadata": {},
   "source": [
    "# Lesson 17 and 18 hacks\n",
    "\n",
    "- toc: true\n",
    "- badges: true\n",
    "- comments: true\n",
    "- author: Ryan McWeeny\n",
    "- categories: [week16]"
   ]
  },
  {
   "attachments": {},
   "cell_type": "markdown",
   "metadata": {},
   "source": [
    "# Vocab\n",
    "  - Problem:  description of a task that may or may not be able to be solved through the use of an algorithm.\n",
    "  - Decision problem:  a problem with a binary answer (yes or no).\n",
    "  - Optimization problem:  a problem with the objective of finding the BEST solution amongst many possibilities to solve a problem.\n",
    "  - Decidable problem:  problem for which algorithms can be written to solve/produce a correct output for all possible inputs.\n",
    "  - Undecidable problem:  These are problems for which no algorithms can be built that can provide a correct yes or no answer.\n",
    "\n",
    "# Notes\n",
    "  - An algorithm's efficiency is determine through formal or mathematical reasoning.\n",
    "  - An algorithm’s efficiency can be informally measured by determining the number of times a statement or group of statements executes.\n",
    "  - Algorithms with a polynomial efficiency or slower (constant, linear, square, cube, etc.) are said to run in a reasonable amount of time. Algorithms with exponential or factorial efficiencies are examples of algorithms that run in an unreasonable amount of time.\n",
    "  - Some problems cannot be solved in a reasonable amount of time because there is no efficient algorithm for solving them. In these cases, approximate solutions are sought.\n",
    "\n",
    "# Hacks\n",
    "1. Decidable problems are designed to produce an output for every possible input, and example is Linear Search. Undecidable problems cannot have algorithms be built that can produce a correct answer an example is a paradox.\n",
    "   \n",
    "2. C. is a three step algorithm\n",
    "\n",
    "3. peakFinder code"
   ]
  },
  {
   "cell_type": "code",
   "execution_count": null,
   "metadata": {
    "vscode": {
     "languageId": "javascript"
    }
   },
   "outputs": [],
   "source": [
    "function findpeak(ar)\n",
    "{\n",
    "    var peak = -Infinity;\n",
    "\n",
    "    // Cycle through all the elements of the array\n",
    "    for(var i = 0; i < ar.length; i++)\n",
    "    {\n",
    "        var el = ar[i];\n",
    "\n",
    "        // If an element is of type array then invoke the same function\n",
    "        // to find out the maximum element of that subarray\n",
    "        if ( Array.isArray(el) )\n",
    "        {\n",
    "            el = findpeak( el );\n",
    "        }\n",
    "\n",
    "        if ( el > peak )\n",
    "        {\n",
    "            peak = el;\n",
    "        }\n",
    "    }\n",
    "\n",
    "    return peak;\n",
    "}"
   ]
  },
  {
   "attachments": {},
   "cell_type": "markdown",
   "metadata": {},
   "source": [
    "4. merge sort"
   ]
  },
  {
   "cell_type": "code",
   "execution_count": 1,
   "metadata": {},
   "outputs": [
    {
     "name": "stdout",
     "output_type": "stream",
     "text": [
      "1\n",
      "2\n",
      "3\n",
      "4\n",
      "5\n",
      "6\n",
      "7\n",
      "8\n"
     ]
    }
   ],
   "source": [
    "arr = [5,1,6,2,7,3,4,8]\n",
    "\n",
    "\n",
    "def Merge_sort(arr):\n",
    "    if len(arr) > 1:\n",
    "        mid = len(arr) // 2\n",
    "        left = arr[:mid]\n",
    "        right = arr[mid:]\n",
    "\n",
    "        Merge_sort(left)\n",
    "        Merge_sort(right)\n",
    "\n",
    "        i = 0\n",
    "        j = 0\n",
    "        k = 0\n",
    "\n",
    "        while i < len(left) and j < len(right):\n",
    "            if left[i] <= right[j]:\n",
    "                arr[k] = left[i]\n",
    "                i += 1\n",
    "            else:\n",
    "                arr[k] = right[j]\n",
    "                j += 1\n",
    "            k += 1\n",
    "\n",
    "        while i < len(left):\n",
    "            arr[k] = left[i]\n",
    "            i += 1\n",
    "            k += 1\n",
    "        while j < len(right):\n",
    "            arr[k] = right[j]\n",
    "            j += 1\n",
    "            k += 1\n",
    "\n",
    "MS = Merge_sort(arr)\n",
    "for i in range(len(arr)):\n",
    "    print(arr[i])"
   ]
  },
  {
   "attachments": {},
   "cell_type": "markdown",
   "metadata": {},
   "source": [
    "5. Heap Permutation"
   ]
  },
  {
   "cell_type": "code",
   "execution_count": 2,
   "metadata": {},
   "outputs": [
    {
     "name": "stdout",
     "output_type": "stream",
     "text": [
      "(3, 2, 1)\n",
      "(3, 1, 2)\n",
      "(2, 3, 1)\n",
      "(2, 1, 3)\n",
      "(1, 3, 2)\n",
      "(1, 2, 3)\n"
     ]
    }
   ],
   "source": [
    "def heap_permutation(data, n):\n",
    "    if n == 1:\n",
    "        print(data)\n",
    "        return\n",
    "        \n",
    "from itertools import permutations \n",
    "\n",
    "perm = permutations([3,2,1]) \n",
    "\n",
    "for i in list(perm):\n",
    "    print(i)"
   ]
  }
 ],
 "metadata": {
  "kernelspec": {
   "display_name": "Python 3 (ipykernel)",
   "language": "python",
   "name": "python3"
  },
  "language_info": {
   "codemirror_mode": {
    "name": "ipython",
    "version": 3
   },
   "file_extension": ".py",
   "mimetype": "text/x-python",
   "name": "python",
   "nbconvert_exporter": "python",
   "pygments_lexer": "ipython3",
   "version": "3.9.12"
  },
  "orig_nbformat": 4,
  "vscode": {
   "interpreter": {
    "hash": "e55666fbbf217aa3df372b978577f47b6009e2f78e2ec76a584f49cd54a1e62c"
   }
  }
 },
 "nbformat": 4,
 "nbformat_minor": 2
}
