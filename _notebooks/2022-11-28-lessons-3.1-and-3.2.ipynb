{
 "cells": [
  {
   "cell_type": "markdown",
   "metadata": {},
   "source": [
    "# Lessons 3.1 and 3.2 hacks\n",
    "\n",
    "- toc: true\n",
    "- badges: true\n",
    "- comments: true\n",
    "- author: Ryan McWeeny\n",
    "- categories: [week14]"
   ]
  },
  {
   "cell_type": "markdown",
   "metadata": {},
   "source": [
    "# Binary Hacks\n",
    "\n",
    "| Question    | Answer      |\n",
    "| ----------- | ----------- |\n",
    "| 1.          | 7           |\n",
    "| 2.          | 11          |\n",
    "| 3.          | 107         |\n",
    "| Question    | Answer      |\n",
    "| 1.          | 1100        |\n",
    "| 2.          | 101100      |\n",
    "| 3.          | 11111110    |\n",
    "\n",
    "# Homework/Hacks\n",
    "\n",
    "| Question    | Answer      |\n",
    "| ----------- | ----------- |\n",
    "| 1.          | [92, 79, 97, 63]           |\n",
    "| 2.          | [\"sam\", \"ann\"]          |\n",
    "| 3.          | 6         |\n",
    "| 4.          | 5         |\n",
    "| 5.          | All of the above           |\n",
    "| 6.          | -106.2          |\n",
    "| 7.          | 16         |\n",
    "| 8.          | False         |\n",
    "| 9.          | the list has floats and strings as a variable type and the idex of 'Avocado' is 4         |\n",
    "\n",
    "# What I learned\n",
    "\n",
    "I already knew what this lesson taught us, however, this lesson still provided excellent practice for the AP exam "
   ]
  }
 ],
 "metadata": {
  "kernelspec": {
   "display_name": "Python 3.9.12 ('base')",
   "language": "python",
   "name": "python3"
  },
  "language_info": {
   "name": "python",
   "version": "3.9.12"
  },
  "orig_nbformat": 4,
  "vscode": {
   "interpreter": {
    "hash": "dea183ffc6c848431f9119977663213e228dddf001778cfd6d11b5eeef44c3af"
   }
  }
 },
 "nbformat": 4,
 "nbformat_minor": 2
}
