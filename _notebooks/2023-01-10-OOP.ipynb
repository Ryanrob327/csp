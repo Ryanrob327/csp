{
 "cells": [
  {
   "attachments": {},
   "cell_type": "markdown",
   "metadata": {},
   "source": [
    "# Lesson 17 and 18 hacks\n",
    "\n",
    "- toc: true\n",
    "- badges: true\n",
    "- comments: true\n",
    "- author: Ryan McWeeny\n",
    "- categories: [week17]"
   ]
  },
  {
   "attachments": {},
   "cell_type": "markdown",
   "metadata": {},
   "source": [
    "# Student class"
   ]
  },
  {
   "cell_type": "code",
   "execution_count": 17,
   "metadata": {},
   "outputs": [
    {
     "name": "stdout",
     "output_type": "stream",
     "text": [
      "[16, 17]\n"
     ]
    }
   ],
   "source": [
    "from datetime import date\n",
    "\n",
    "\n",
    "class Student:\n",
    "    def __init__(self, classYear, born):\n",
    "        self._class = classYear\n",
    "        self.born = born\n",
    "\n",
    "    @property\n",
    "    def classOf(self):\n",
    "        return self._class\n",
    "    \n",
    "    @classOf.setter\n",
    "    def classOf(self, Graduation):\n",
    "        self._class = Graduation\n",
    "\n",
    "    def calculate_age(self):\n",
    "        today = date.today()\n",
    "        self.age = today.year - self.born.year - ((today.month, today.day) < (self.born.month, self.born.day))\n",
    "        return self.age\n",
    "\n",
    "\n",
    "def tester(students):\n",
    "    age = []\n",
    "    for student in students:\n",
    "        age.append(Student.calculate_age(student))\n",
    "    return age\n",
    "\n",
    "\n",
    "Ryan = Student(classYear=2024, born=date(2006, 3, 27))\n",
    "student2 = Student(classYear=2024, born=date(2005, 11, 5))\n",
    "    \n",
    "students = [Ryan, student2]\n",
    "\n",
    "get_students = tester(students)\n",
    "print(get_students)\n"
   ]
  },
  {
   "attachments": {},
   "cell_type": "markdown",
   "metadata": {},
   "source": [
    "# CPT related class\n",
    "\n",
    "This class is related to my create performance task where the user plays a game about guessing the constructor of an F1 car"
   ]
  },
  {
   "cell_type": "code",
   "execution_count": 15,
   "metadata": {},
   "outputs": [
    {
     "ename": "AttributeError",
     "evalue": "'dict' object has no attribute 'key'",
     "output_type": "error",
     "traceback": [
      "\u001b[0;31m---------------------------------------------------------------------------\u001b[0m",
      "\u001b[0;31mAttributeError\u001b[0m                            Traceback (most recent call last)",
      "\u001b[1;32m/home/ryanm/vscode/csp/_notebooks/2023-01-10-OOP.ipynb Cell 5\u001b[0m in \u001b[0;36m<cell line: 21>\u001b[0;34m()\u001b[0m\n\u001b[1;32m     <a href='vscode-notebook-cell://wsl%2Bubuntu/home/ryanm/vscode/csp/_notebooks/2023-01-10-OOP.ipynb#W2sdnNjb2RlLXJlbW90ZQ%3D%3D?line=10'>11</a>\u001b[0m drivers \u001b[39m=\u001b[39m [\n\u001b[1;32m     <a href='vscode-notebook-cell://wsl%2Bubuntu/home/ryanm/vscode/csp/_notebooks/2023-01-10-OOP.ipynb#W2sdnNjb2RlLXJlbW90ZQ%3D%3D?line=11'>12</a>\u001b[0m            {\u001b[39m\"\u001b[39m\u001b[39mMax Verstappen\u001b[39m\u001b[39m\"\u001b[39m: \u001b[39m\"\u001b[39m\u001b[39mRed Bull\u001b[39m\u001b[39m\"\u001b[39m},\n\u001b[1;32m     <a href='vscode-notebook-cell://wsl%2Bubuntu/home/ryanm/vscode/csp/_notebooks/2023-01-10-OOP.ipynb#W2sdnNjb2RlLXJlbW90ZQ%3D%3D?line=12'>13</a>\u001b[0m            {\u001b[39m\"\u001b[39m\u001b[39mLogan Sargeant\u001b[39m\u001b[39m\"\u001b[39m: \u001b[39m\"\u001b[39m\u001b[39mWilliams\u001b[39m\u001b[39m\"\u001b[39m},\n\u001b[0;32m   (...)\u001b[0m\n\u001b[1;32m     <a href='vscode-notebook-cell://wsl%2Bubuntu/home/ryanm/vscode/csp/_notebooks/2023-01-10-OOP.ipynb#W2sdnNjb2RlLXJlbW90ZQ%3D%3D?line=16'>17</a>\u001b[0m            {\u001b[39m\"\u001b[39m\u001b[39mFernando Alonso\u001b[39m\u001b[39m\"\u001b[39m: \u001b[39m\"\u001b[39m\u001b[39mAston Martin Racing\u001b[39m\u001b[39m\"\u001b[39m}\n\u001b[1;32m     <a href='vscode-notebook-cell://wsl%2Bubuntu/home/ryanm/vscode/csp/_notebooks/2023-01-10-OOP.ipynb#W2sdnNjb2RlLXJlbW90ZQ%3D%3D?line=17'>18</a>\u001b[0m             ]\n\u001b[1;32m     <a href='vscode-notebook-cell://wsl%2Bubuntu/home/ryanm/vscode/csp/_notebooks/2023-01-10-OOP.ipynb#W2sdnNjb2RlLXJlbW90ZQ%3D%3D?line=18'>19</a>\u001b[0m constructor \u001b[39m=\u001b[39m Constructor(drivers)\n\u001b[0;32m---> <a href='vscode-notebook-cell://wsl%2Bubuntu/home/ryanm/vscode/csp/_notebooks/2023-01-10-OOP.ipynb#W2sdnNjb2RlLXJlbW90ZQ%3D%3D?line=20'>21</a>\u001b[0m constructor\u001b[39m.\u001b[39;49mprint()\n",
      "\u001b[1;32m/home/ryanm/vscode/csp/_notebooks/2023-01-10-OOP.ipynb Cell 5\u001b[0m in \u001b[0;36mConstructor.print\u001b[0;34m(self)\u001b[0m\n\u001b[1;32m      <a href='vscode-notebook-cell://wsl%2Bubuntu/home/ryanm/vscode/csp/_notebooks/2023-01-10-OOP.ipynb#W2sdnNjb2RlLXJlbW90ZQ%3D%3D?line=4'>5</a>\u001b[0m \u001b[39mdef\u001b[39;00m \u001b[39mprint\u001b[39m(\u001b[39mself\u001b[39m):\n\u001b[1;32m      <a href='vscode-notebook-cell://wsl%2Bubuntu/home/ryanm/vscode/csp/_notebooks/2023-01-10-OOP.ipynb#W2sdnNjb2RlLXJlbW90ZQ%3D%3D?line=5'>6</a>\u001b[0m     \u001b[39mfor\u001b[39;00m i \u001b[39min\u001b[39;00m \u001b[39mrange\u001b[39m(\u001b[39mlen\u001b[39m(\u001b[39mself\u001b[39m\u001b[39m.\u001b[39mdrivers)):\n\u001b[0;32m----> <a href='vscode-notebook-cell://wsl%2Bubuntu/home/ryanm/vscode/csp/_notebooks/2023-01-10-OOP.ipynb#W2sdnNjb2RlLXJlbW90ZQ%3D%3D?line=6'>7</a>\u001b[0m         \u001b[39mprint\u001b[39m(\u001b[39mself\u001b[39;49m\u001b[39m.\u001b[39;49mdrivers[i]\u001b[39m.\u001b[39;49mkey)\n",
      "\u001b[0;31mAttributeError\u001b[0m: 'dict' object has no attribute 'key'"
     ]
    }
   ],
   "source": [
    "class Constructor:\n",
    "    def __init__(self, drivers) -> None:\n",
    "        self.drivers = drivers\n",
    "        \n",
    "    def print(self):\n",
    "        for i in range(len(self.drivers)):\n",
    "            print(self.drivers[i])\n",
    "        \n",
    "        \n",
    "\n",
    "drivers = [\n",
    "           {\"Max Verstappen\": \"Red Bull\"},\n",
    "           {\"Logan Sargeant\": \"Williams\"},\n",
    "           {\"Lando Norris\": \"McLaren\"},\n",
    "           {\"Pierre Gasly\": \"Alpine\"},\n",
    "           {\"Sergio Perez\": \"Red Bull\"},\n",
    "           {\"Fernando Alonso\": \"Aston Martin Racing\"}\n",
    "            ]\n",
    "constructor = Constructor(drivers)\n",
    "\n",
    "constructor.print()"
   ]
  },
  {
   "cell_type": "code",
   "execution_count": null,
   "metadata": {},
   "outputs": [],
   "source": []
  }
 ],
 "metadata": {
  "kernelspec": {
   "display_name": "base",
   "language": "python",
   "name": "python3"
  },
  "language_info": {
   "codemirror_mode": {
    "name": "ipython",
    "version": 3
   },
   "file_extension": ".py",
   "mimetype": "text/x-python",
   "name": "python",
   "nbconvert_exporter": "python",
   "pygments_lexer": "ipython3",
   "version": "3.9.12"
  },
  "orig_nbformat": 4,
  "vscode": {
   "interpreter": {
    "hash": "dea183ffc6c848431f9119977663213e228dddf001778cfd6d11b5eeef44c3af"
   }
  }
 },
 "nbformat": 4,
 "nbformat_minor": 2
}
