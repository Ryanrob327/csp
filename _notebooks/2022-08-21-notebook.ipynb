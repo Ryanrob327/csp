{
 "cells": [
  {
   "cell_type": "code",
   "execution_count": null,
   "metadata": {},
   "outputs": [],
   "source": [
    "# \"First notebook\"\n",
    "> \"This is my first notebook\"\n",
    "- toc:true\n",
    "- badges: true\n",
    "- comments: true\n",
    "- author: Ryan McWeeny\n",
    "- categories: [fastpages, jupyter]\n",
    "\n",
    "```python\n",
    "Print(\"Hello World\")\n",
    "```"
   ]
  }
 ],
 "metadata": {
  "language_info": {
   "name": "python"
  },
  "orig_nbformat": 4
 },
 "nbformat": 4,
 "nbformat_minor": 2
}
