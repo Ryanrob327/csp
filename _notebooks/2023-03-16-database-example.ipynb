{
 "cells": [
  {
   "attachments": {},
   "cell_type": "markdown",
   "metadata": {},
   "source": [
    "#  Example database using planes\n",
    "- toc: true\n",
    "- comments: true\n",
    "- author: Ryan McWeeny\n",
    "- categories: [week26]"
   ]
  },
  {
   "attachments": {},
   "cell_type": "markdown",
   "metadata": {},
   "source": [
    "# CRUD\n",
    "\n",
    "This database stores planes and their stats, it implements CRUD using imperative programming\n",
    "\n",
    "## Create\n",
    "\n",
    "Importing the necessary modules and create function:"
   ]
  },
  {
   "cell_type": "code",
   "execution_count": 21,
   "metadata": {},
   "outputs": [
    {
     "name": "stdout",
     "output_type": "stream",
     "text": [
      "A new user record U-2 has been created with the data:\n",
      "('U-2', 120000000, 475, 'Lockheed')\n"
     ]
    }
   ],
   "source": [
    "import sqlite3\n",
    "\n",
    "database = 'files/planes.db'\n",
    "\n",
    "\n",
    "def create_design(designation, price, max_speed, designer):\n",
    "    conn = sqlite3.connect(database)\n",
    "    c = conn.cursor()\n",
    "    \n",
    "    try:\n",
    "        # Execute an SQL command to insert data into a table\n",
    "        c.execute(\"INSERT INTO planes (designation, price, max_speed, designer) VALUES (?, ?, ?, ?)\",\n",
    "              (designation, price, max_speed, designer))\n",
    "                \n",
    "        # Commit the changes to the database\n",
    "        conn.commit()\n",
    "        print(f\"A new user record {designation} has been created with the data:\")\n",
    "        print((designation, price, max_speed, designer))\n",
    "                \n",
    "    except sqlite3.Error as error:\n",
    "        print(\"Error while executing the INSERT:\", error)\n",
    "\n",
    "    c.close()\n",
    "    conn.close()\n",
    "    \n",
    "    \n",
    "create_design(\"U-2\", 120000000, 475, \"Lockheed\")\n"
   ]
  },
  {
   "attachments": {},
   "cell_type": "markdown",
   "metadata": {},
   "source": [
    "This function takes four arguments (designation, price, max_speed, and designer) and inserts them into the \"designs\" table as a new record.\n",
    "\n",
    "## Read"
   ]
  },
  {
   "cell_type": "code",
   "execution_count": 17,
   "metadata": {},
   "outputs": [
    {
     "name": "stdout",
     "output_type": "stream",
     "text": [
      "(1, 'SR-71', 34000000, 2200, 'Lockheed')\n"
     ]
    }
   ],
   "source": [
    "def read_design(id):\n",
    "    # Connect to the database file\n",
    "    conn = sqlite3.connect(database)\n",
    "\n",
    "    # Create a cursor object to execute SQL queries\n",
    "    c = conn.cursor()\n",
    "    \n",
    "    # Execute a SELECT statement to retrieve data from a table\n",
    "    results = c.execute('SELECT * FROM planes').fetchall()\n",
    "\n",
    "    # Print the results\n",
    "    if len(results) == 0:\n",
    "        print(\"Table is empty\")\n",
    "    else:\n",
    "        for row in results:\n",
    "            if row[0] == id:\n",
    "                print(row)\n",
    "\n",
    "    # Close the cursor and connection objects\n",
    "    c.close()\n",
    "    conn.close()\n",
    "    \n",
    "read_design(1)"
   ]
  },
  {
   "attachments": {},
   "cell_type": "markdown",
   "metadata": {},
   "source": [
    "This function takes a design ID as an argument and returns the record from the \"designs\" table that matches that ID.\n",
    "\n",
    "## Update"
   ]
  },
  {
   "cell_type": "code",
   "execution_count": 18,
   "metadata": {},
   "outputs": [
    {
     "name": "stdout",
     "output_type": "stream",
     "text": [
      "(2, 'U-2', 120000000, 480, 'Lockheed')\n",
      "None\n"
     ]
    }
   ],
   "source": [
    "def update_design(design_id, designation=None, price=None, max_speed=None, designer=None):\n",
    "    conn = sqlite3.connect(database)\n",
    "    c = conn.cursor()\n",
    "    update_dict = {}\n",
    "    \n",
    "    if designation is not None:\n",
    "        update_dict[\"designation\"] = designation\n",
    "    if price is not None:\n",
    "        update_dict[\"price\"] = price\n",
    "    if max_speed is not None:\n",
    "        update_dict[\"max_speed\"] = max_speed\n",
    "    if designer is not None:\n",
    "        update_dict[\"designer\"] = designer\n",
    "        \n",
    "    update_str = \", \".join([f\"{col}=? \" for col in update_dict.keys()])\n",
    "    c.execute(f\"UPDATE planes SET {update_str} WHERE id=?\", (*update_dict.values(), design_id))\n",
    "    conn.commit()\n",
    "    print(read_design(design_id))\n",
    "    \n",
    "    c.close()\n",
    "    conn.close()\n",
    "    \n",
    "update_design(2, None, None, 480, None)"
   ]
  },
  {
   "attachments": {},
   "cell_type": "markdown",
   "metadata": {},
   "source": [
    "This function takes a design ID and any combination of the other four arguments as keyword arguments. It updates the record in the \"designs\" table that matches the ID with the new values provided.\n",
    "\n",
    "## Delete"
   ]
  },
  {
   "cell_type": "code",
   "execution_count": 22,
   "metadata": {},
   "outputs": [
    {
     "name": "stdout",
     "output_type": "stream",
     "text": [
      "(2, 'U-2', 120000000, 475, 'Lockheed')\n",
      "None\n"
     ]
    }
   ],
   "source": [
    "def delete_design(design_id):\n",
    "    conn = sqlite3.connect(database)\n",
    "    c = conn.cursor()\n",
    "    \n",
    "    print(read_design(design_id))\n",
    "    c.execute(\"DELETE FROM planes WHERE id=?\", (design_id,))\n",
    "    \n",
    "    conn.commit()\n",
    "    conn.close()\n",
    "    \n",
    "delete_design(2)"
   ]
  },
  {
   "attachments": {},
   "cell_type": "markdown",
   "metadata": {},
   "source": [
    "This function takes a design ID as an argument and deletes the record from the \"designs\" table that matches that ID."
   ]
  }
 ],
 "metadata": {
  "kernelspec": {
   "display_name": "base",
   "language": "python",
   "name": "python3"
  },
  "language_info": {
   "codemirror_mode": {
    "name": "ipython",
    "version": 3
   },
   "file_extension": ".py",
   "mimetype": "text/x-python",
   "name": "python",
   "nbconvert_exporter": "python",
   "pygments_lexer": "ipython3",
   "version": "3.9.12"
  },
  "orig_nbformat": 4
 },
 "nbformat": 4,
 "nbformat_minor": 2
}
