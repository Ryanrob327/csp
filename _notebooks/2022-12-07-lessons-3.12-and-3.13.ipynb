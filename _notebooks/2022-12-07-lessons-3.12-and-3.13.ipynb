{
 "cells": [
  {
   "attachments": {},
   "cell_type": "markdown",
   "metadata": {},
   "source": [
    "# Lessons 3.12-3.13 hacks\n",
    "\n",
    "- toc: true\n",
    "- badges: true\n",
    "- comments: true\n",
    "- author: Ryan McWeeny\n",
    "- categories: [week15]"
   ]
  },
  {
   "attachments": {},
   "cell_type": "markdown",
   "metadata": {},
   "source": [
    "# Vocab\n",
    "Procedure - named group of programming instructions that may have parameters and return values.\n",
    "\n",
    "Parameters - input values of a procedure.\n",
    "\n",
    "Modularity - the practice of breaking a complex program into smaller, independent parts or modules that can be used and reused in different parts of the program.\n",
    "\n",
    "\n",
    "# Notes\n",
    "  - If you have a set of statements and inside there is a procedure then when it reaches that procedure it will excute that procedure and then go back to the rest of the statments.\n",
    "  - If you see a return statement you automatically end the procedure even if there is more statements\n",
    "  - Two types of procedures, one that returns a value and one that executes a block of code.\n",
    "  - The subdivision of a computer program into sepearate subprogrames is called modularity,\n",
    "\n",
    "\n",
    "# Hacks\n",
    "## 3.12 part 1\n",
    "### 1.1\n",
    "  - This code would return an error because there is an unmatched curly brace and if the program did not have an error, the code would display \"the minimum number is\" because the minimum number is never displayed.\n",
    "  \n",
    "### 1.2\n",
    "  - PROCEDURE calcAvgSpeed (distance, time) { DISPLAY (distance/time) }\n",
    "  \n",
    "### 1.3\n",
    "  - False, program will return all caps; IM MAD\n",
    "  \n",
    "### 1.4\n",
    "  - totalFootprint ← calcFlightFootprint(2451, 118) + calcFlightFootprint(3442, 252)\n",
    "\n",
    "## 3.12 part 2\n",
    "### 2.1\n",
    "  - The first procedure would display the value 81*9 = 729\n",
    "\n",
    "### 2.2\n",
    "  - The second procedure would display 190\n",
    "  \n",
    "### 2.3\n",
    "  - The third procedure equals 39.44\n",
    "\n",
    "## 3.13\n",
    "### 3.1\n"
   ]
  },
  {
   "cell_type": "code",
   "execution_count": 1,
   "metadata": {},
   "outputs": [
    {
     "name": "stdout",
     "output_type": "stream",
     "text": [
      "1260\n"
     ]
    }
   ],
   "source": [
    "def replaceRByards(toprbyardspg, currentrbyards, totalGames):\n",
    "    if ((toprbyardspg/totalGames) < (currentrbyards/totalGames)):\n",
    "        toprbyardspg = currentrbyards\n",
    "    print(toprbyardspg)\n",
    "\n",
    "replaceRByards(100, 1260, 12)"
   ]
  },
  {
   "attachments": {},
   "cell_type": "markdown",
   "metadata": {},
   "source": [
    "### 3.2"
   ]
  },
  {
   "cell_type": "code",
   "execution_count": null,
   "metadata": {},
   "outputs": [],
   "source": [
    "PROCEDURE goForwardThenTurn(X, dir){\n",
    "    for i in range x {\n",
    "        MOVE_FORWARD)\n",
    "    }\n",
    "    if dir = \"right\"{\n",
    "         ROTATE_RIGHT()\n",
    "         MOVE_FORWARD()\n",
    "         ROTATE_LEFT()\n",
    "    }\n",
    "    else{\n",
    "        ROTATE_LEFT()\n",
    "         MOVE_FORWARD()\n",
    "         ROTATE_RIGHT()\n",
    "    }\n",
    "}\n",
    "\n",
    "PROCEDURE goForwardX(X){\n",
    "    for i in range x {\n",
    "        MOVE_FORWARD())\n",
    "    }\n",
    "}\n",
    "\n",
    "goForwardX(1)\n",
    "ROTATE_LEFT()\n",
    "goForwardThenTurn(2, right)\n",
    "goForwardThenTurn(2, left)\n",
    "goForwardThenTurn(1, left)\n",
    "goForwardThenTurn(2, right)\n",
    "goForwardX(1)\n",
    "ROTATE_RIGHT()\n",
    "goForwardX(2)"
   ]
  },
  {
   "attachments": {},
   "cell_type": "markdown",
   "metadata": {},
   "source": [
    "### 3.3 \n",
    "  - B) procedure MyList\n",
    "### 3.4"
   ]
  },
  {
   "cell_type": "code",
   "execution_count": null,
   "metadata": {},
   "outputs": [],
   "source": [
    "PROCEDURE BallToGreen{\n",
    "Rotate_Left\n",
    "Move_Forward\n",
    "Rotate_Right \n",
    "Move_Forward( until count = 6)\n",
    "break\n",
    "Rotate_Left\n",
    "Move_Forward (until count=2) \n",
    "break\n",
    "}"
   ]
  }
 ],
 "metadata": {
  "kernelspec": {
   "display_name": "Python 3.9.12 ('base')",
   "language": "python",
   "name": "python3"
  },
  "language_info": {
   "codemirror_mode": {
    "name": "ipython",
    "version": 3
   },
   "file_extension": ".py",
   "mimetype": "text/x-python",
   "name": "python",
   "nbconvert_exporter": "python",
   "pygments_lexer": "ipython3",
   "version": "3.9.12 (main, Apr  5 2022, 06:56:58) \n[GCC 7.5.0]"
  },
  "orig_nbformat": 4,
  "vscode": {
   "interpreter": {
    "hash": "dea183ffc6c848431f9119977663213e228dddf001778cfd6d11b5eeef44c3af"
   }
  }
 },
 "nbformat": 4,
 "nbformat_minor": 2
}
