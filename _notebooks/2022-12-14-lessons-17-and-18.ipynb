{
 "cells": [
  {
   "attachments": {},
   "cell_type": "markdown",
   "metadata": {},
   "source": [
    "# Lesson 17 and 18 hacks\n",
    "\n",
    "- toc: true\n",
    "- badges: true\n",
    "- comments: true\n",
    "- author: Ryan McWeeny\n",
    "- categories: [week16]"
   ]
  },
  {
   "attachments": {},
   "cell_type": "markdown",
   "metadata": {},
   "source": [
    "# Vocab\n",
    "  - Problem:  description of a task that may or may not be able to be solved through the use of an algorithm.\n",
    "  - Decision problem:  a problem with a binary answer (yes or no).\n",
    "  - Optimization problem:  a problem with the objective of finding the BEST solution amongst many possibilities to solve a problem.\n",
    "  - Decidable problem:  problem for which algorithms can be written to solve/produce a correct output for all possible inputs.\n",
    "  - Undecidable problem:  These are problems for which no algorithms can be built that can provide a correct yes or no answer.\n",
    "\n",
    "# Notes\n",
    "  - An algorithm's efficiency is determine through formal or mathematical reasoning.\n",
    "  - An algorithm’s efficiency can be informally measured by determining the number of times a statement or group of statements executes.\n",
    "  - Algorithms with a polynomial efficiency or slower (constant, linear, square, cube, etc.) are said to run in a reasonable amount of time. Algorithms with exponential or factorial efficiencies are examples of algorithms that run in an unreasonable amount of time.\n",
    "  - Some problems cannot be solved in a reasonable amount of time because there is no efficient algorithm for solving them. In these cases, approximate solutions are sought.\n",
    "\n",
    "# Hacks\n",
    "1. Decidable problems are designed to produce an output for every possible input, and example is Linear Search. Undecidable problems cannot have algorithms be built that can produce a correct answer an example is a paradox.\n",
    "   \n",
    "2. "
   ]
  },
  {
   "cell_type": "code",
   "execution_count": null,
   "metadata": {},
   "outputs": [],
   "source": []
  }
 ],
 "metadata": {
  "kernelspec": {
   "display_name": "base",
   "language": "python",
   "name": "python3"
  },
  "language_info": {
   "name": "python",
   "version": "3.9.12 (main, Apr  5 2022, 06:56:58) \n[GCC 7.5.0]"
  },
  "orig_nbformat": 4,
  "vscode": {
   "interpreter": {
    "hash": "dea183ffc6c848431f9119977663213e228dddf001778cfd6d11b5eeef44c3af"
   }
  }
 },
 "nbformat": 4,
 "nbformat_minor": 2
}
